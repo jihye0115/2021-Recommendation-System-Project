{
 "cells": [
  {
   "cell_type": "markdown",
   "id": "366880aa",
   "metadata": {},
   "source": [
    "# BPMF\n",
    "## netflix data 구현"
   ]
  },
  {
   "cell_type": "code",
   "execution_count": 11,
   "id": "0bbeef8e",
   "metadata": {
    "ExecuteTime": {
     "end_time": "2021-12-12T15:25:46.951915Z",
     "start_time": "2021-12-12T15:25:46.945296Z"
    },
    "id": "0bbeef8e"
   },
   "outputs": [],
   "source": [
    "import numpy as np\n",
    "import pandas as pd\n",
    "import random\n",
    "import matplotlib.pyplot as plt\n",
    "\n",
    "from numpy.random import multivariate_normal\n",
    "from scipy.stats import wishart"
   ]
  },
  {
   "cell_type": "markdown",
   "id": "ea47ac5b",
   "metadata": {},
   "source": [
    "## 데이터 전처리"
   ]
  },
  {
   "cell_type": "markdown",
   "id": "03ab175a",
   "metadata": {},
   "source": [
    "### netflix data 불러오기"
   ]
  },
  {
   "cell_type": "code",
   "execution_count": 12,
   "id": "1742abc7",
   "metadata": {
    "ExecuteTime": {
     "end_time": "2021-12-12T15:25:48.143059Z",
     "start_time": "2021-12-12T15:25:48.019604Z"
    },
    "id": "1742abc7"
   },
   "outputs": [
    {
     "data": {
      "text/html": [
       "<div>\n",
       "<style scoped>\n",
       "    .dataframe tbody tr th:only-of-type {\n",
       "        vertical-align: middle;\n",
       "    }\n",
       "\n",
       "    .dataframe tbody tr th {\n",
       "        vertical-align: top;\n",
       "    }\n",
       "\n",
       "    .dataframe thead th {\n",
       "        text-align: right;\n",
       "    }\n",
       "</style>\n",
       "<table border=\"1\" class=\"dataframe\">\n",
       "  <thead>\n",
       "    <tr style=\"text-align: right;\">\n",
       "      <th></th>\n",
       "      <th>user_id</th>\n",
       "      <th>movie_id</th>\n",
       "      <th>rating</th>\n",
       "    </tr>\n",
       "  </thead>\n",
       "  <tbody>\n",
       "    <tr>\n",
       "      <th>0</th>\n",
       "      <td>2442</td>\n",
       "      <td>1</td>\n",
       "      <td>3.0</td>\n",
       "    </tr>\n",
       "    <tr>\n",
       "      <th>1</th>\n",
       "      <td>1719610</td>\n",
       "      <td>1</td>\n",
       "      <td>2.0</td>\n",
       "    </tr>\n",
       "    <tr>\n",
       "      <th>2</th>\n",
       "      <td>1011918</td>\n",
       "      <td>1</td>\n",
       "      <td>4.0</td>\n",
       "    </tr>\n",
       "    <tr>\n",
       "      <th>3</th>\n",
       "      <td>479924</td>\n",
       "      <td>1</td>\n",
       "      <td>5.0</td>\n",
       "    </tr>\n",
       "    <tr>\n",
       "      <th>4</th>\n",
       "      <td>2389367</td>\n",
       "      <td>1</td>\n",
       "      <td>1.0</td>\n",
       "    </tr>\n",
       "    <tr>\n",
       "      <th>5</th>\n",
       "      <td>563962</td>\n",
       "      <td>1</td>\n",
       "      <td>5.0</td>\n",
       "    </tr>\n",
       "    <tr>\n",
       "      <th>6</th>\n",
       "      <td>369646</td>\n",
       "      <td>1</td>\n",
       "      <td>5.0</td>\n",
       "    </tr>\n",
       "    <tr>\n",
       "      <th>7</th>\n",
       "      <td>1430587</td>\n",
       "      <td>1</td>\n",
       "      <td>4.0</td>\n",
       "    </tr>\n",
       "    <tr>\n",
       "      <th>8</th>\n",
       "      <td>305344</td>\n",
       "      <td>1</td>\n",
       "      <td>1.0</td>\n",
       "    </tr>\n",
       "    <tr>\n",
       "      <th>9</th>\n",
       "      <td>389872</td>\n",
       "      <td>1</td>\n",
       "      <td>2.0</td>\n",
       "    </tr>\n",
       "  </tbody>\n",
       "</table>\n",
       "</div>"
      ],
      "text/plain": [
       "   user_id  movie_id  rating\n",
       "0     2442         1     3.0\n",
       "1  1719610         1     2.0\n",
       "2  1011918         1     4.0\n",
       "3   479924         1     5.0\n",
       "4  2389367         1     1.0\n",
       "5   563962         1     5.0\n",
       "6   369646         1     5.0\n",
       "7  1430587         1     4.0\n",
       "8   305344         1     1.0\n",
       "9   389872         1     2.0"
      ]
     },
     "execution_count": 12,
     "metadata": {},
     "output_type": "execute_result"
    }
   ],
   "source": [
    "ratings = pd.read_csv('./data/netflix_data_small.csv')\n",
    "ratings.head(10)"
   ]
  },
  {
   "cell_type": "code",
   "execution_count": 14,
   "id": "98bd9de8",
   "metadata": {
    "ExecuteTime": {
     "end_time": "2021-12-12T15:25:48.382302Z",
     "start_time": "2021-12-12T15:25:48.379295Z"
    }
   },
   "outputs": [
    {
     "data": {
      "text/plain": [
       "3.591302190401928"
      ]
     },
     "execution_count": 14,
     "metadata": {},
     "output_type": "execute_result"
    }
   ],
   "source": [
    "ratings['rating'].mean()"
   ]
  },
  {
   "cell_type": "code",
   "execution_count": 15,
   "id": "cd2a0fc3",
   "metadata": {
    "ExecuteTime": {
     "end_time": "2021-12-12T15:25:48.565558Z",
     "start_time": "2021-12-12T15:25:48.553862Z"
    }
   },
   "outputs": [
    {
     "data": {
      "text/plain": [
       "1.0952602247926584"
      ]
     },
     "execution_count": 15,
     "metadata": {},
     "output_type": "execute_result"
    }
   ],
   "source": [
    "ratings['rating'].std()"
   ]
  },
  {
   "cell_type": "code",
   "execution_count": 16,
   "id": "75e0589b",
   "metadata": {
    "ExecuteTime": {
     "end_time": "2021-12-12T15:25:49.251231Z",
     "start_time": "2021-12-12T15:25:49.143408Z"
    }
   },
   "outputs": [
    {
     "data": {
      "text/plain": [
       "<AxesSubplot:>"
      ]
     },
     "execution_count": 16,
     "metadata": {},
     "output_type": "execute_result"
    },
    {
     "data": {
      "image/png": "[encoded data removed]",
      "text/plain": [
       "<Figure size 432x288 with 1 Axes>"
      ]
     },
     "metadata": {
      "needs_background": "light"
     },
     "output_type": "display_data"
    }
   ],
   "source": [
    "ratings.loc[ratings['user_id']==2442,'rating'].hist()"
   ]
  },
  {
   "cell_type": "code",
   "execution_count": 17,
   "id": "03d61f96",
   "metadata": {
    "ExecuteTime": {
     "end_time": "2021-12-12T15:25:53.203639Z",
     "start_time": "2021-12-12T15:25:52.897169Z"
    }
   },
   "outputs": [
    {
     "data": {
      "image/png": "[encoded data removed]",
      "text/plain": [
       "<Figure size 720x504 with 4 Axes>"
      ]
     },
     "metadata": {
      "needs_background": "light"
     },
     "output_type": "display_data"
    }
   ],
   "source": [
    "np.random.seed(123)\n",
    "random_user_list = np.random.choice(ratings['user_id'].unique(),4)\n",
    "fig, axs = plt.subplots(2,2, figsize=(10,7))\n",
    "axs[0,0].hist(ratings.loc[ratings['user_id']==random_user_list[0],'rating'])\n",
    "axs[0,0].set_title(\"User A\")\n",
    "\n",
    "axs[0,1].hist(ratings.loc[ratings['user_id']==random_user_list[1],'rating'])\n",
    "axs[0,1].set_title(\"User B\")\n",
    "\n",
    "axs[1,0].hist(ratings.loc[ratings['user_id']==random_user_list[2],'rating'])\n",
    "axs[1,0].set_title(\"User C\")\n",
    "\n",
    "axs[1,1].hist(ratings.loc[ratings['user_id']==random_user_list[3],'rating'])\n",
    "axs[1,1].set_title(\"User D\")\n",
    "\n",
    "fig.tight_layout()"
   ]
  },
  {
   "cell_type": "markdown",
   "id": "aba9cedf",
   "metadata": {},
   "source": [
    "### train, test 분리"
   ]
  },
  {
   "cell_type": "code",
   "execution_count": 18,
   "id": "1bc23162",
   "metadata": {
    "ExecuteTime": {
     "end_time": "2021-12-12T15:26:05.693292Z",
     "start_time": "2021-12-12T15:26:05.590040Z"
    }
   },
   "outputs": [],
   "source": [
    "# train test 분리\n",
    "from sklearn.utils import shuffle\n",
    "np.random.seed(123)\n",
    "TRAIN_SIZE = 0.75\n",
    "ratings = shuffle(ratings, random_state=1)\n",
    "cutoff = int(TRAIN_SIZE * len(ratings))\n",
    "ratings_train = ratings.iloc[:cutoff]\n",
    "ratings_test = ratings.iloc[cutoff:]"
   ]
  },
  {
   "cell_type": "code",
   "execution_count": 19,
   "id": "0e089c83",
   "metadata": {
    "ExecuteTime": {
     "end_time": "2021-12-12T15:26:06.943444Z",
     "start_time": "2021-12-12T15:26:05.808056Z"
    },
    "id": "0e089c83"
   },
   "outputs": [],
   "source": [
    "R_temp = ratings.pivot(index='user_id', columns='movie_id', values='rating').fillna(0)\n",
    "R = np.array(R_temp)\n",
    "R_test = np.zeros(R.shape)\n",
    "\n",
    "item_id_index = []\n",
    "index_item_id = []\n",
    "for i, one_id in enumerate(R_temp):\n",
    "    item_id_index.append([one_id, i])\n",
    "    index_item_id.append([i, one_id])\n",
    "item_id_index = dict(item_id_index)\n",
    "index_item_id = dict(index_item_id)  \n",
    "\n",
    "user_id_index = []\n",
    "index_user_id = []\n",
    "for i, one_id in enumerate(R_temp.T):\n",
    "    user_id_index.append([one_id, i])\n",
    "    index_user_id.append([i, one_id])\n",
    "user_id_index = dict(user_id_index)\n",
    "index_user_id = dict(index_user_id)"
   ]
  },
  {
   "cell_type": "code",
   "execution_count": 20,
   "id": "5661d6c8",
   "metadata": {
    "ExecuteTime": {
     "end_time": "2021-12-12T15:26:13.190310Z",
     "start_time": "2021-12-12T15:26:07.099193Z"
    },
    "id": "5661d6c8"
   },
   "outputs": [],
   "source": [
    "test_set = []\n",
    "for i in range(len(ratings_test)):      # test 데이터에 있는 각 데이터에 대해서\n",
    "    x = user_id_index[ratings_test.iloc[i, 0]]\n",
    "    y = item_id_index[ratings_test.iloc[i, 1]]\n",
    "    z = ratings_test.iloc[i, 2]\n",
    "    test_set.append([x, y, z])\n",
    "    R[x, y] = 0                    # Setting test set ratings to 0\n",
    "    R_test[x, y] = z"
   ]
  },
  {
   "cell_type": "code",
   "execution_count": 23,
   "id": "748cfe99",
   "metadata": {
    "ExecuteTime": {
     "end_time": "2021-12-12T15:26:13.904380Z",
     "start_time": "2021-12-12T15:26:13.902310Z"
    },
    "id": "748cfe99",
    "outputId": "5e557589-44cd-40be-97a5-795c0cac65ef"
   },
   "outputs": [
    {
     "name": "stdout",
     "output_type": "stream",
     "text": [
      "(10000, 4497) (10000, 4497)\n"
     ]
    }
   ],
   "source": [
    "print(R.shape, R_test.shape)"
   ]
  },
  {
   "cell_type": "markdown",
   "id": "696165f9",
   "metadata": {},
   "source": [
    "## BPMF 구현"
   ]
  },
  {
   "cell_type": "code",
   "execution_count": 25,
   "id": "33566531",
   "metadata": {
    "ExecuteTime": {
     "end_time": "2021-12-12T15:26:24.641898Z",
     "start_time": "2021-12-12T15:26:24.606750Z"
    },
    "scrolled": true
   },
   "outputs": [],
   "source": [
    "def BPMF(R, R_test, U_in, V_in, T, D, lowest_rating, highest_rating,\n",
    "         mu_0=None, Beta_0=None, W_0=None, nu_0=None, seed=None):\n",
    "\n",
    "    def Normal_Wishart(mu_0, lamb, W, nu, seed=None):\n",
    "        \"\"\"Function extracting a Normal_Wishart random variable\"\"\"\n",
    "        Lambda = wishart(df=nu, scale=W, seed=seed).rvs()\n",
    "        cov = np.linalg.inv(lamb * Lambda)\n",
    "        mu = multivariate_normal(mu_0, cov)\n",
    "        return mu, Lambda, cov\n",
    "\n",
    "    def ranked(i, j):  # function telling if user i ranked movie j in the train dataset.\n",
    "        if R[i, j] != 0:\n",
    "            return True\n",
    "        else:\n",
    "            return False\n",
    "\n",
    "    def ranked_test(i, j):  # function telling if user i ranked movie j in the test dataset.\n",
    "        if R_test[i, j] != 0:\n",
    "            return True\n",
    "        else:\n",
    "            return False\n",
    "\n",
    "    N = R.shape[0] ; M = R.shape[1]\n",
    "    U_old = np.array(U_in) ; V_old = np.array(V_in)\n",
    "    R_pred_sum = np.zeros((N, M))\n",
    "    train_rmse_list = []\n",
    "    test_rmse_list = []\n",
    "    train_epoch_list = []\n",
    "\n",
    "    ### mcmc sample list\n",
    "    ## predictions\n",
    "    mcmc_samples_Rij = []\n",
    "    ## hyperparams\n",
    "    #mcmc_samples_mu_u = np.array([])\n",
    "    #mcmc_samples_Lambda_U = np.array([])\n",
    "    #mcmc_samples_mu_v = np.array([])\n",
    "    #mcmc_samples_Lambda_V = np.array([])\n",
    "    ## params\n",
    "    mcmc_samples_U_new = []\n",
    "    mcmc_samples_V_new = []\n",
    "\n",
    "    # initialize now the hierarchical priors:\n",
    "    alpha = 2  # observation noise, they put it = 2 in the paper\n",
    "    mu_u = np.zeros((D, 1))\n",
    "    mu_v = np.zeros((D, 1))\n",
    "    Lambda_U = np.eye(D)\n",
    "    Lambda_V = np.eye(D)\n",
    "\n",
    "    # COUNT HOW MAY PAIRS ARE IN THE TEST AND TRAIN SET:\n",
    "    pairs_train = (R != np.zeros((R.shape[0], R.shape[1]))).sum()\n",
    "    pairs_test = (R_test != np.zeros((R_test.shape[0], R_test.shape[1]))).sum()\n",
    "\n",
    "    # SET THE DEFAULT VALUES for Wishart distribution\n",
    "    # we assume that parameters for both U and V are the same.\n",
    "\n",
    "    if mu_0 is None:\n",
    "        mu_0 = np.zeros(D)\n",
    "    if nu_0 is None:\n",
    "        nu_0 = D\n",
    "    if Beta_0 is None:\n",
    "        Beta_0 = 2\n",
    "    if W_0 is None:\n",
    "        W_0 = np.eye(D)    \n",
    "\n",
    "    ## Gibbs sampling\n",
    "    np.random.seed(seed)\n",
    "    for t in range(T):\n",
    "        \"\"\" SAMPLE HYPERPARAMETERS \"\"\"\n",
    "        Beta_0_star = Beta_0 + N\n",
    "        nu_0_star = nu_0 + N\n",
    "        W_0_inv = np.linalg.inv(W_0)\n",
    "\n",
    "        ### user hyperparameters : mu_U, Lambda_U\n",
    "        U_average = np.sum(U_old, axis=1) / N\n",
    "        dot_temp = np.zeros((D,D))\n",
    "        for i in range(N):\n",
    "            U_dev = (U_old[:,i] - U_average).reshape((D,1))\n",
    "            dot_temp += np.dot(U_dev, np.transpose(U_dev))\n",
    "        S_bar_U = dot_temp / N\n",
    "\n",
    "        mu_0_star_U = (Beta_0 * mu_0 + N * U_average) / (Beta_0 + N)\n",
    "        W_0_star_U_inv = W_0_inv + N * S_bar_U + Beta_0 * N / (Beta_0 + N) * np.dot(\n",
    "            np.transpose(np.array(mu_0 - U_average, ndmin=2)), \n",
    "            np.array((mu_0 - U_average), ndmin=2))\n",
    "        W_0_star_U = np.linalg.inv(W_0_star_U_inv)\n",
    "\n",
    "        # sample from Gaussian-Wishart distribution\n",
    "        mu_U, Lambda_U, cov_U = Normal_Wishart(mu_0_star_U, Beta_0_star, \n",
    "                                               W_0_star_U, nu_0_star, seed=seed)\n",
    "\n",
    "        ### movie hyperparameters : mu_V, Lambda_V\n",
    "        V_average = np.sum(V_old, axis=1) / M\n",
    "        dot_temp = np.zeros((D,D))\n",
    "        for j in range(M):\n",
    "            V_dev = (V_old[:,j] - V_average).reshape((D,1))\n",
    "            dot_temp += np.dot(V_dev, np.transpose(V_dev))\n",
    "        S_bar_V = dot_temp / M\n",
    "\n",
    "        mu_0_star_V = (Beta_0 * mu_0 + M * V_average) / (Beta_0 + M)\n",
    "        W_0_star_V_inv = W_0_inv + M * S_bar_V + Beta_0 * M / (Beta_0 + M) * np.dot(\n",
    "            np.transpose(np.array(mu_0 - V_average, ndmin=2)), \n",
    "            np.array((mu_0 - V_average), ndmin=2))\n",
    "        W_0_star_V = np.linalg.inv(W_0_star_V_inv)\n",
    "\n",
    "        # sample from Gaussian-Wishart distribution\n",
    "        mu_V, Lambda_V, cov_V = Normal_Wishart(mu_0_star_V, Beta_0_star, \n",
    "                                               W_0_star_V, nu_0_star, seed=seed)\n",
    "\n",
    "\n",
    "        \"\"\" SAMPLE PARAMETERS : U, V \"\"\"\n",
    "        U_new = np.zeros((D,N))\n",
    "        V_new = np.zeros((D,M))\n",
    "\n",
    "        ## sample user features\n",
    "        for i in range(N):\n",
    "            vvt_temp = np.zeros((D,D))\n",
    "            vr_temp = np.zeros(D)\n",
    "            for j in range(M):\n",
    "                if ranked(i,j):\n",
    "                    vvt_temp += np.dot(V_old[:,j].reshape((D,1)), \n",
    "                                       np.transpose(V_old[:,j].reshape((D,1))))\n",
    "                    vr_temp += V_old[:,j]*R[i,j]\n",
    "            Lambda_i_star_U = Lambda_U + alpha * vvt_temp\n",
    "            Lambda_i_star_U_inv = np.linalg.inv(Lambda_i_star_U)\n",
    "            mu_i_star = np.dot( Lambda_i_star_U_inv, alpha*vr_temp + np.dot(Lambda_U, mu_U))\n",
    "\n",
    "            # sample new U\n",
    "            new_U_i = multivariate_normal(mu_i_star, Lambda_i_star_U_inv) # Dx1\n",
    "            U_new[:,i] = new_U_i\n",
    "\n",
    "        ## sample movie features    \n",
    "        for j in range(M):\n",
    "            uut_temp = np.zeros((D,D))\n",
    "            ur_temp = np.zeros(D)\n",
    "            for i in range(N):\n",
    "                if ranked(i,j):\n",
    "                    uut_temp += np.dot(U_new[:, i].reshape((D,1)), \n",
    "                                       np.transpose(U_new[:, i].reshape((D,1))))\n",
    "                    ur_temp += U_new[:, i]*R[i,j]\n",
    "            Lambda_j_star_V = Lambda_V + alpha * uut_temp\n",
    "            Lambda_j_star_V_inv = np.linalg.inv(Lambda_j_star_V)\n",
    "            mu_j_star = np.dot( Lambda_j_star_V_inv, alpha*ur_temp + np.dot(Lambda_V, mu_V) )\n",
    "\n",
    "            # sample new V\n",
    "            new_V_j = multivariate_normal(mu_j_star, Lambda_j_star_V_inv) # Dx1\n",
    "            V_new[:,j] = new_V_j\n",
    "\n",
    "        # update U, V\n",
    "        U_old = np.array(U_new)\n",
    "        V_old = np.array(V_new)\n",
    "        \n",
    "        mcmc_samples_U_new.append(U_new[1,5])\n",
    "        mcmc_samples_V_new.append(V_new[3,5])\n",
    "\n",
    "        R_step = np.dot(np.transpose(U_new), V_new)\n",
    "        for i in range(N):  # reduce all the predictions to the correct ratings range.\n",
    "            for j in range(M):\n",
    "                if R_step[i, j] > highest_rating:\n",
    "                    R_step[i, j] = highest_rating\n",
    "                elif R_step[i, j] < lowest_rating:\n",
    "                    R_step[i, j] = lowest_rating\n",
    "\n",
    "        mcmc_samples_Rij.append(R_step[1,3])\n",
    "\n",
    "        R_pred_sum += R_step\n",
    "        k = t+1 # num iter\n",
    "        R_pred = R_pred_sum / k\n",
    "\n",
    "        # train RMSE\n",
    "        train_err = 0\n",
    "        for i in range(N):\n",
    "            for j in range(M):\n",
    "                if ranked(i, j):\n",
    "                    train_err += (R_pred[i,j] - R[i,j])**2 # sum of squared error\n",
    "        train_rmse = np.sqrt(train_err / pairs_train)\n",
    "        train_rmse_list.append(train_rmse)\n",
    "        print(\"\\n Training RMSE at iteration \", k, \" :   \", \"{:.4}\".format(train_rmse))\n",
    "\n",
    "        # test RMSE\n",
    "        test_err = 0\n",
    "        for i in range(N):\n",
    "            for j in range(M):\n",
    "                if ranked_test(i, j):\n",
    "                    test_err += (R_pred[i,j] - R_test[i,j])**2 # sum of squared error\n",
    "        test_rmse = np.sqrt(test_err / pairs_test)\n",
    "        test_rmse_list.append(test_rmse)\n",
    "        print(\"Test RMSE at iteration \", k, \" :   \", \"{:.4}\".format(test_rmse))\n",
    "\n",
    "        train_epoch_list.append(k)\n",
    "        \n",
    "    return R_pred, train_rmse_list, test_rmse_list, train_epoch_list, mcmc_samples_Rij, mcmc_samples_U_new, mcmc_samples_V_new"
   ]
  },
  {
   "cell_type": "markdown",
   "id": "8a89bcdb",
   "metadata": {},
   "source": [
    "## train"
   ]
  },
  {
   "cell_type": "markdown",
   "id": "6dad744c",
   "metadata": {},
   "source": [
    "#### 초기값 설정"
   ]
  },
  {
   "cell_type": "code",
   "execution_count": 26,
   "id": "051428bc",
   "metadata": {
    "ExecuteTime": {
     "end_time": "2021-12-12T15:26:28.668089Z",
     "start_time": "2021-12-12T15:26:28.659524Z"
    }
   },
   "outputs": [
    {
     "data": {
      "text/plain": [
       "'# PMF 결과 추정된 U,V를 initial value로 사용\\nU_in = np.load(\"U_02.npy\")\\nV_in = np.load(\"V_02.npy\")'"
      ]
     },
     "execution_count": 26,
     "metadata": {},
     "output_type": "execute_result"
    }
   ],
   "source": [
    "'''# PMF 결과 추정된 U,V를 initial value로 사용\n",
    "U_in = np.load(\"U_02.npy\")\n",
    "V_in = np.load(\"V_02.npy\")'''"
   ]
  },
  {
   "cell_type": "code",
   "execution_count": 27,
   "id": "aa9ded4c",
   "metadata": {
    "ExecuteTime": {
     "end_time": "2021-12-12T15:26:30.666913Z",
     "start_time": "2021-12-12T15:26:30.443325Z"
    }
   },
   "outputs": [],
   "source": [
    "D=10\n",
    "mu_u = np.zeros((D, 1)) ; mu_v = np.zeros((D, 1))\n",
    "N = R.shape[0] ; M = R.shape[1]\n",
    "U_in=np.zeros((D, N)) ; V_in=np.zeros((D, M))\n",
    "np.random.seed(123)\n",
    "for i in range(N):\n",
    "    U_in[:,i] = np.random.normal(mu_u, size=(D,1)).reshape(D)\n",
    "\n",
    "for j in range(M):\n",
    "    V_in[:,j] = np.random.normal(mu_v, size=(D,1)).reshape(D)"
   ]
  },
  {
   "cell_type": "code",
   "execution_count": 28,
   "id": "f18f94c6",
   "metadata": {
    "ExecuteTime": {
     "end_time": "2021-12-12T16:22:11.993351Z",
     "start_time": "2021-12-12T15:26:36.717392Z"
    }
   },
   "outputs": [
    {
     "name": "stdout",
     "output_type": "stream",
     "text": [
      "\n",
      " Training RMSE at iteration  1  :    2.212\n",
      "Test RMSE at iteration  1  :    2.414\n",
      "\n",
      " Training RMSE at iteration  2  :    1.378\n",
      "Test RMSE at iteration  2  :    1.564\n",
      "\n",
      " Training RMSE at iteration  3  :    1.097\n",
      "Test RMSE at iteration  3  :    1.268\n",
      "\n",
      " Training RMSE at iteration  4  :    0.9687\n",
      "Test RMSE at iteration  4  :    1.131\n",
      "\n",
      " Training RMSE at iteration  5  :    0.9004\n",
      "Test RMSE at iteration  5  :    1.057\n",
      "\n",
      " Training RMSE at iteration  6  :    0.8605\n",
      "Test RMSE at iteration  6  :    1.013\n",
      "\n",
      " Training RMSE at iteration  7  :    0.8357\n",
      "Test RMSE at iteration  7  :    0.9835\n",
      "\n",
      " Training RMSE at iteration  8  :    0.8198\n",
      "Test RMSE at iteration  8  :    0.9635\n",
      "\n",
      " Training RMSE at iteration  9  :    0.8094\n",
      "Test RMSE at iteration  9  :    0.9491\n",
      "\n",
      " Training RMSE at iteration  10  :    0.8026\n",
      "Test RMSE at iteration  10  :    0.9383\n",
      "\n",
      " Training RMSE at iteration  11  :    0.7982\n",
      "Test RMSE at iteration  11  :    0.9303\n",
      "\n",
      " Training RMSE at iteration  12  :    0.7954\n",
      "Test RMSE at iteration  12  :    0.924\n",
      "\n",
      " Training RMSE at iteration  13  :    0.7938\n",
      "Test RMSE at iteration  13  :    0.919\n",
      "\n",
      " Training RMSE at iteration  14  :    0.7929\n",
      "Test RMSE at iteration  14  :    0.9151\n",
      "\n",
      " Training RMSE at iteration  15  :    0.7925\n",
      "Test RMSE at iteration  15  :    0.9118\n",
      "\n",
      " Training RMSE at iteration  16  :    0.7925\n",
      "Test RMSE at iteration  16  :    0.9092\n",
      "\n",
      " Training RMSE at iteration  17  :    0.7927\n",
      "Test RMSE at iteration  17  :    0.9071\n",
      "\n",
      " Training RMSE at iteration  18  :    0.7931\n",
      "Test RMSE at iteration  18  :    0.9054\n",
      "\n",
      " Training RMSE at iteration  19  :    0.7935\n",
      "Test RMSE at iteration  19  :    0.9039\n",
      "\n",
      " Training RMSE at iteration  20  :    0.7939\n",
      "Test RMSE at iteration  20  :    0.9027\n",
      "\n",
      " Training RMSE at iteration  21  :    0.7944\n",
      "Test RMSE at iteration  21  :    0.9017\n",
      "\n",
      " Training RMSE at iteration  22  :    0.7948\n",
      "Test RMSE at iteration  22  :    0.9008\n",
      "\n",
      " Training RMSE at iteration  23  :    0.7952\n",
      "Test RMSE at iteration  23  :    0.9\n",
      "\n",
      " Training RMSE at iteration  24  :    0.7956\n",
      "Test RMSE at iteration  24  :    0.8993\n",
      "\n",
      " Training RMSE at iteration  25  :    0.7959\n",
      "Test RMSE at iteration  25  :    0.8987\n",
      "\n",
      " Training RMSE at iteration  26  :    0.7962\n",
      "Test RMSE at iteration  26  :    0.8982\n",
      "\n",
      " Training RMSE at iteration  27  :    0.7965\n",
      "Test RMSE at iteration  27  :    0.8977\n",
      "\n",
      " Training RMSE at iteration  28  :    0.7967\n",
      "Test RMSE at iteration  28  :    0.8972\n",
      "\n",
      " Training RMSE at iteration  29  :    0.7968\n",
      "Test RMSE at iteration  29  :    0.8968\n",
      "\n",
      " Training RMSE at iteration  30  :    0.7969\n",
      "Test RMSE at iteration  30  :    0.8965\n",
      "\n",
      " Training RMSE at iteration  31  :    0.7971\n",
      "Test RMSE at iteration  31  :    0.8962\n",
      "\n",
      " Training RMSE at iteration  32  :    0.7971\n",
      "Test RMSE at iteration  32  :    0.8959\n",
      "\n",
      " Training RMSE at iteration  33  :    0.7971\n",
      "Test RMSE at iteration  33  :    0.8956\n",
      "\n",
      " Training RMSE at iteration  34  :    0.7972\n",
      "Test RMSE at iteration  34  :    0.8954\n",
      "\n",
      " Training RMSE at iteration  35  :    0.7972\n",
      "Test RMSE at iteration  35  :    0.8952\n",
      "\n",
      " Training RMSE at iteration  36  :    0.7972\n",
      "Test RMSE at iteration  36  :    0.895\n",
      "\n",
      " Training RMSE at iteration  37  :    0.7971\n",
      "Test RMSE at iteration  37  :    0.8947\n",
      "\n",
      " Training RMSE at iteration  38  :    0.797\n",
      "Test RMSE at iteration  38  :    0.8946\n",
      "\n",
      " Training RMSE at iteration  39  :    0.7969\n",
      "Test RMSE at iteration  39  :    0.8944\n",
      "\n",
      " Training RMSE at iteration  40  :    0.7968\n",
      "Test RMSE at iteration  40  :    0.8942\n",
      "3335.2690579891205\n"
     ]
    }
   ],
   "source": [
    "import time\n",
    "start = time.time()\n",
    "\n",
    "result = BPMF(R, R_test, U_in, V_in, T=40, D=10, \n",
    "     lowest_rating=1, highest_rating=5, \n",
    "     mu_0=None, Beta_0=None, W_0=None, nu_0=None, seed=123)\n",
    "\n",
    "print(time.time()-start)"
   ]
  },
  {
   "cell_type": "code",
   "execution_count": 29,
   "id": "876f0b2a",
   "metadata": {
    "ExecuteTime": {
     "end_time": "2021-12-12T16:22:12.250964Z",
     "start_time": "2021-12-12T16:22:12.248718Z"
    }
   },
   "outputs": [],
   "source": [
    "R_pred, train_rmse_list, test_rmse_list, train_epoch_list, mcmc_samples_Rij, mcmc_samples_U_new, mcmc_samples_V_new = result"
   ]
  },
  {
   "cell_type": "markdown",
   "id": "6ba31fbd",
   "metadata": {},
   "source": [
    "## 결과 시각화"
   ]
  },
  {
   "cell_type": "code",
   "execution_count": 32,
   "id": "f990a063",
   "metadata": {
    "ExecuteTime": {
     "end_time": "2021-12-12T16:22:13.159079Z",
     "start_time": "2021-12-12T16:22:13.065893Z"
    }
   },
   "outputs": [
    {
     "data": {
      "text/plain": [
       "Text(0, 0.5, 'RMSE')"
      ]
     },
     "execution_count": 32,
     "metadata": {},
     "output_type": "execute_result"
    },
    {
     "data": {
      "image/png": "[encoded data removed]",
      "text/plain": [
       "<Figure size 576x432 with 1 Axes>"
      ]
     },
     "metadata": {
      "needs_background": "light"
     },
     "output_type": "display_data"
    }
   ],
   "source": [
    "import matplotlib.pyplot as plt\n",
    "plt.figure(figsize=(8, 6))\n",
    "plt.title('Training results')\n",
    "plt.plot(train_epoch_list, train_rmse_list, label='RMSE train', \n",
    "         color='#564d4d', marker='o', linestyle='--')\n",
    "plt.plot(train_epoch_list, test_rmse_list, label='RMSE test', \n",
    "         color='#831010', marker='o')\n",
    "plt.axhline(0.9514, color='#db0000', label='Netflix Baseline')\n",
    "\n",
    "plt.legend()\n",
    "plt.xlabel('Epochs')\n",
    "plt.ylabel('RMSE')"
   ]
  },
  {
   "cell_type": "code",
   "execution_count": 33,
   "id": "ec5f38de",
   "metadata": {
    "ExecuteTime": {
     "end_time": "2021-12-12T16:22:13.473865Z",
     "start_time": "2021-12-12T16:22:13.393682Z"
    }
   },
   "outputs": [
    {
     "data": {
      "text/plain": [
       "Text(0, 0.5, 'R')"
      ]
     },
     "execution_count": 33,
     "metadata": {},
     "output_type": "execute_result"
    },
    {
     "data": {
      "image/png": "[encoded data removed]",
      "text/plain": [
       "<Figure size 720x360 with 1 Axes>"
      ]
     },
     "metadata": {
      "needs_background": "light"
     },
     "output_type": "display_data"
    }
   ],
   "source": [
    "plt.figure(figsize=(10, 5))\n",
    "plt.title('Trace plot of MCMC samples')\n",
    "plt.plot(train_epoch_list, mcmc_samples_Rij, label='R[1,3]', \n",
    "         color='#564d4d')\n",
    "plt.legend()\n",
    "plt.xlabel('step')\n",
    "plt.ylabel('R')"
   ]
  },
  {
   "cell_type": "markdown",
   "id": "80857c15",
   "metadata": {},
   "source": [
    "# 예측 결과 확인"
   ]
  },
  {
   "cell_type": "code",
   "execution_count": 35,
   "id": "69633644",
   "metadata": {
    "ExecuteTime": {
     "end_time": "2021-12-12T16:22:14.041077Z",
     "start_time": "2021-12-12T16:22:14.021192Z"
    }
   },
   "outputs": [
    {
     "data": {
      "text/html": [
       "<div>\n",
       "<style scoped>\n",
       "    .dataframe tbody tr th:only-of-type {\n",
       "        vertical-align: middle;\n",
       "    }\n",
       "\n",
       "    .dataframe tbody tr th {\n",
       "        vertical-align: top;\n",
       "    }\n",
       "\n",
       "    .dataframe thead th {\n",
       "        text-align: right;\n",
       "    }\n",
       "</style>\n",
       "<table border=\"1\" class=\"dataframe\">\n",
       "  <thead>\n",
       "    <tr style=\"text-align: right;\">\n",
       "      <th></th>\n",
       "      <th>movie_id</th>\n",
       "      <th>title</th>\n",
       "    </tr>\n",
       "  </thead>\n",
       "  <tbody>\n",
       "    <tr>\n",
       "      <th>0</th>\n",
       "      <td>1</td>\n",
       "      <td>Dinosaur Planet</td>\n",
       "    </tr>\n",
       "    <tr>\n",
       "      <th>1</th>\n",
       "      <td>2</td>\n",
       "      <td>Isle of Man TT 2004 Review</td>\n",
       "    </tr>\n",
       "    <tr>\n",
       "      <th>2</th>\n",
       "      <td>3</td>\n",
       "      <td>Character</td>\n",
       "    </tr>\n",
       "    <tr>\n",
       "      <th>3</th>\n",
       "      <td>4</td>\n",
       "      <td>Paula Abdul's Get Up &amp; Dance</td>\n",
       "    </tr>\n",
       "    <tr>\n",
       "      <th>4</th>\n",
       "      <td>5</td>\n",
       "      <td>The Rise and Fall of ECW</td>\n",
       "    </tr>\n",
       "  </tbody>\n",
       "</table>\n",
       "</div>"
      ],
      "text/plain": [
       "   movie_id                         title\n",
       "0         1               Dinosaur Planet\n",
       "1         2    Isle of Man TT 2004 Review\n",
       "2         3                     Character\n",
       "3         4  Paula Abdul's Get Up & Dance\n",
       "4         5      The Rise and Fall of ECW"
      ]
     },
     "execution_count": 35,
     "metadata": {},
     "output_type": "execute_result"
    }
   ],
   "source": [
    "df_movies = pd.read_csv('movie_titles.csv', encoding = \"ISO-8859-1\", header = None, names = ['movie_id', 'year', 'title'])\n",
    "df_movies.drop('year', axis=1, inplace=True)\n",
    "df_movies.head()"
   ]
  },
  {
   "cell_type": "code",
   "execution_count": 36,
   "id": "7c6d605d",
   "metadata": {
    "ExecuteTime": {
     "end_time": "2021-12-12T16:22:14.289892Z",
     "start_time": "2021-12-12T16:22:14.272606Z"
    }
   },
   "outputs": [],
   "source": [
    "user_dict = dict(zip(ratings.user_id.unique(), range(ratings.user_id.nunique())))\n",
    "#user_dict = dict(zip(range(ratings.user_id.nunique()),ratings.user_id.unique()))\n",
    "#movie_dict = dict(zip(ratings.movie_id.unique(), range(ratings.movie_id.nunique())))\n",
    "#ratings_dict = ratings.replace({'user_id':user_dict})\n",
    "#ratings_dict = ratings_dict.replace({'movie_id':movie_dict})"
   ]
  },
  {
   "cell_type": "markdown",
   "id": "d503ce1a",
   "metadata": {},
   "source": [
    "### user_id=2442 유저에 대한 예측값 확인"
   ]
  },
  {
   "cell_type": "code",
   "execution_count": 37,
   "id": "57d7180f",
   "metadata": {
    "ExecuteTime": {
     "end_time": "2021-12-12T16:22:14.558496Z",
     "start_time": "2021-12-12T16:22:14.536537Z"
    }
   },
   "outputs": [
    {
     "data": {
      "text/html": [
       "<div>\n",
       "<style scoped>\n",
       "    .dataframe tbody tr th:only-of-type {\n",
       "        vertical-align: middle;\n",
       "    }\n",
       "\n",
       "    .dataframe tbody tr th {\n",
       "        vertical-align: top;\n",
       "    }\n",
       "\n",
       "    .dataframe thead th {\n",
       "        text-align: right;\n",
       "    }\n",
       "</style>\n",
       "<table border=\"1\" class=\"dataframe\">\n",
       "  <thead>\n",
       "    <tr style=\"text-align: right;\">\n",
       "      <th></th>\n",
       "      <th>movie_id</th>\n",
       "      <th>rating_pred</th>\n",
       "      <th>title</th>\n",
       "    </tr>\n",
       "  </thead>\n",
       "  <tbody>\n",
       "    <tr>\n",
       "      <th>0</th>\n",
       "      <td>1</td>\n",
       "      <td>3.102412</td>\n",
       "      <td>Dinosaur Planet</td>\n",
       "    </tr>\n",
       "    <tr>\n",
       "      <th>1</th>\n",
       "      <td>2</td>\n",
       "      <td>2.887548</td>\n",
       "      <td>Isle of Man TT 2004 Review</td>\n",
       "    </tr>\n",
       "    <tr>\n",
       "      <th>2</th>\n",
       "      <td>3</td>\n",
       "      <td>3.511813</td>\n",
       "      <td>Character</td>\n",
       "    </tr>\n",
       "    <tr>\n",
       "      <th>3</th>\n",
       "      <td>4</td>\n",
       "      <td>3.014915</td>\n",
       "      <td>Paula Abdul's Get Up &amp; Dance</td>\n",
       "    </tr>\n",
       "    <tr>\n",
       "      <th>4</th>\n",
       "      <td>5</td>\n",
       "      <td>3.537195</td>\n",
       "      <td>The Rise and Fall of ECW</td>\n",
       "    </tr>\n",
       "    <tr>\n",
       "      <th>...</th>\n",
       "      <td>...</td>\n",
       "      <td>...</td>\n",
       "      <td>...</td>\n",
       "    </tr>\n",
       "    <tr>\n",
       "      <th>4492</th>\n",
       "      <td>4493</td>\n",
       "      <td>3.629701</td>\n",
       "      <td>Ju-on: The Grudge</td>\n",
       "    </tr>\n",
       "    <tr>\n",
       "      <th>4493</th>\n",
       "      <td>4494</td>\n",
       "      <td>3.094832</td>\n",
       "      <td>Cartoon Crazys: Vol. 1</td>\n",
       "    </tr>\n",
       "    <tr>\n",
       "      <th>4494</th>\n",
       "      <td>4495</td>\n",
       "      <td>2.957297</td>\n",
       "      <td>Clifford: Happy Birthday Clifford / Puppy Love</td>\n",
       "    </tr>\n",
       "    <tr>\n",
       "      <th>4495</th>\n",
       "      <td>4496</td>\n",
       "      <td>3.181694</td>\n",
       "      <td>Farewell My Concubine</td>\n",
       "    </tr>\n",
       "    <tr>\n",
       "      <th>4496</th>\n",
       "      <td>4497</td>\n",
       "      <td>2.876507</td>\n",
       "      <td>Texasville</td>\n",
       "    </tr>\n",
       "  </tbody>\n",
       "</table>\n",
       "<p>4497 rows × 3 columns</p>\n",
       "</div>"
      ],
      "text/plain": [
       "      movie_id  rating_pred                                           title\n",
       "0            1     3.102412                                 Dinosaur Planet\n",
       "1            2     2.887548                      Isle of Man TT 2004 Review\n",
       "2            3     3.511813                                       Character\n",
       "3            4     3.014915                    Paula Abdul's Get Up & Dance\n",
       "4            5     3.537195                        The Rise and Fall of ECW\n",
       "...        ...          ...                                             ...\n",
       "4492      4493     3.629701                               Ju-on: The Grudge\n",
       "4493      4494     3.094832                          Cartoon Crazys: Vol. 1\n",
       "4494      4495     2.957297  Clifford: Happy Birthday Clifford / Puppy Love\n",
       "4495      4496     3.181694                           Farewell My Concubine\n",
       "4496      4497     2.876507                                      Texasville\n",
       "\n",
       "[4497 rows x 3 columns]"
      ]
     },
     "execution_count": 37,
     "metadata": {},
     "output_type": "execute_result"
    }
   ],
   "source": [
    "R_pred_2442 = pd.DataFrame(R_pred[user_dict[2442]],np.arange(1,M+1)).reset_index()\n",
    "R_pred_2442.columns = ['movie_id','rating_pred']\n",
    "R_pred_2442 = pd.merge(R_pred_2442, df_movies, how='left', on='movie_id')\n",
    "R_pred_2442"
   ]
  },
  {
   "cell_type": "markdown",
   "id": "6df112d0",
   "metadata": {},
   "source": [
    "#### user 2442의 취향"
   ]
  },
  {
   "cell_type": "code",
   "execution_count": 38,
   "id": "eb3e0f72",
   "metadata": {
    "ExecuteTime": {
     "end_time": "2021-12-12T16:22:14.856319Z",
     "start_time": "2021-12-12T16:22:14.841755Z"
    }
   },
   "outputs": [
    {
     "data": {
      "text/html": [
       "<div>\n",
       "<style scoped>\n",
       "    .dataframe tbody tr th:only-of-type {\n",
       "        vertical-align: middle;\n",
       "    }\n",
       "\n",
       "    .dataframe tbody tr th {\n",
       "        vertical-align: top;\n",
       "    }\n",
       "\n",
       "    .dataframe thead th {\n",
       "        text-align: right;\n",
       "    }\n",
       "</style>\n",
       "<table border=\"1\" class=\"dataframe\">\n",
       "  <thead>\n",
       "    <tr style=\"text-align: right;\">\n",
       "      <th></th>\n",
       "      <th>movie_id</th>\n",
       "      <th>title</th>\n",
       "      <th>rating</th>\n",
       "      <th>rating_pred</th>\n",
       "    </tr>\n",
       "  </thead>\n",
       "  <tbody>\n",
       "    <tr>\n",
       "      <th>18</th>\n",
       "      <td>1084</td>\n",
       "      <td>Walking with Prehistoric Beasts</td>\n",
       "      <td>5.0</td>\n",
       "      <td>2.649816</td>\n",
       "    </tr>\n",
       "    <tr>\n",
       "      <th>73</th>\n",
       "      <td>2862</td>\n",
       "      <td>The Silence of the Lambs</td>\n",
       "      <td>5.0</td>\n",
       "      <td>3.078828</td>\n",
       "    </tr>\n",
       "    <tr>\n",
       "      <th>23</th>\n",
       "      <td>1391</td>\n",
       "      <td>Yanni: Live at the Acropolis</td>\n",
       "      <td>5.0</td>\n",
       "      <td>3.008299</td>\n",
       "    </tr>\n",
       "    <tr>\n",
       "      <th>78</th>\n",
       "      <td>3113</td>\n",
       "      <td>Dante's Peak</td>\n",
       "      <td>5.0</td>\n",
       "      <td>3.252302</td>\n",
       "    </tr>\n",
       "    <tr>\n",
       "      <th>79</th>\n",
       "      <td>3184</td>\n",
       "      <td>Desert Hearts</td>\n",
       "      <td>5.0</td>\n",
       "      <td>3.160749</td>\n",
       "    </tr>\n",
       "    <tr>\n",
       "      <th>26</th>\n",
       "      <td>1470</td>\n",
       "      <td>Bend It Like Beckham</td>\n",
       "      <td>5.0</td>\n",
       "      <td>2.993537</td>\n",
       "    </tr>\n",
       "    <tr>\n",
       "      <th>27</th>\n",
       "      <td>1482</td>\n",
       "      <td>Beyond Borders</td>\n",
       "      <td>5.0</td>\n",
       "      <td>3.272943</td>\n",
       "    </tr>\n",
       "    <tr>\n",
       "      <th>92</th>\n",
       "      <td>3671</td>\n",
       "      <td>Laughing Matters</td>\n",
       "      <td>5.0</td>\n",
       "      <td>3.303395</td>\n",
       "    </tr>\n",
       "    <tr>\n",
       "      <th>57</th>\n",
       "      <td>2452</td>\n",
       "      <td>Lord of the Rings: The Fellowship of the Ring</td>\n",
       "      <td>5.0</td>\n",
       "      <td>2.928999</td>\n",
       "    </tr>\n",
       "    <tr>\n",
       "      <th>31</th>\n",
       "      <td>1709</td>\n",
       "      <td>Clash of the Titans</td>\n",
       "      <td>5.0</td>\n",
       "      <td>3.504033</td>\n",
       "    </tr>\n",
       "  </tbody>\n",
       "</table>\n",
       "</div>"
      ],
      "text/plain": [
       "    movie_id                                          title  rating  \\\n",
       "18      1084                Walking with Prehistoric Beasts     5.0   \n",
       "73      2862                       The Silence of the Lambs     5.0   \n",
       "23      1391                   Yanni: Live at the Acropolis     5.0   \n",
       "78      3113                                   Dante's Peak     5.0   \n",
       "79      3184                                  Desert Hearts     5.0   \n",
       "26      1470                           Bend It Like Beckham     5.0   \n",
       "27      1482                                 Beyond Borders     5.0   \n",
       "92      3671                               Laughing Matters     5.0   \n",
       "57      2452  Lord of the Rings: The Fellowship of the Ring     5.0   \n",
       "31      1709                            Clash of the Titans     5.0   \n",
       "\n",
       "    rating_pred  \n",
       "18     2.649816  \n",
       "73     3.078828  \n",
       "23     3.008299  \n",
       "78     3.252302  \n",
       "79     3.160749  \n",
       "26     2.993537  \n",
       "27     3.272943  \n",
       "92     3.303395  \n",
       "57     2.928999  \n",
       "31     3.504033  "
      ]
     },
     "execution_count": 38,
     "metadata": {},
     "output_type": "execute_result"
    }
   ],
   "source": [
    "R_result = pd.merge(R_pred_2442, ratings[ratings['user_id']==2442].drop('user_id',axis=1), how='left', on='movie_id')\n",
    "R_result = R_result[R_result['rating'].isna()==False]\n",
    "R_result = R_result[['movie_id','title','rating','rating_pred']].reset_index(drop=True)\n",
    "\n",
    "R_result.sort_values(by='rating', ascending=False).head(10)"
   ]
  },
  {
   "cell_type": "code",
   "execution_count": 40,
   "id": "37975907",
   "metadata": {
    "ExecuteTime": {
     "end_time": "2021-12-12T17:43:32.892139Z",
     "start_time": "2021-12-12T17:43:32.869169Z"
    }
   },
   "outputs": [
    {
     "data": {
      "text/html": [
       "<div>\n",
       "<style scoped>\n",
       "    .dataframe tbody tr th:only-of-type {\n",
       "        vertical-align: middle;\n",
       "    }\n",
       "\n",
       "    .dataframe tbody tr th {\n",
       "        vertical-align: top;\n",
       "    }\n",
       "\n",
       "    .dataframe thead th {\n",
       "        text-align: right;\n",
       "    }\n",
       "</style>\n",
       "<table border=\"1\" class=\"dataframe\">\n",
       "  <thead>\n",
       "    <tr style=\"text-align: right;\">\n",
       "      <th></th>\n",
       "      <th>movie_id</th>\n",
       "      <th>title</th>\n",
       "      <th>rating</th>\n",
       "      <th>rating_pred</th>\n",
       "    </tr>\n",
       "  </thead>\n",
       "  <tbody>\n",
       "    <tr>\n",
       "      <th>0</th>\n",
       "      <td>1</td>\n",
       "      <td>Dinosaur Planet</td>\n",
       "      <td>3.0</td>\n",
       "      <td>3.102412</td>\n",
       "    </tr>\n",
       "    <tr>\n",
       "      <th>1</th>\n",
       "      <td>30</td>\n",
       "      <td>Something's Gotta Give</td>\n",
       "      <td>3.0</td>\n",
       "      <td>3.821087</td>\n",
       "    </tr>\n",
       "    <tr>\n",
       "      <th>2</th>\n",
       "      <td>188</td>\n",
       "      <td>Dead Birds</td>\n",
       "      <td>3.0</td>\n",
       "      <td>2.546090</td>\n",
       "    </tr>\n",
       "    <tr>\n",
       "      <th>3</th>\n",
       "      <td>191</td>\n",
       "      <td>X2: X-Men United</td>\n",
       "      <td>4.0</td>\n",
       "      <td>3.857685</td>\n",
       "    </tr>\n",
       "    <tr>\n",
       "      <th>4</th>\n",
       "      <td>283</td>\n",
       "      <td>If These Walls Could Talk</td>\n",
       "      <td>4.0</td>\n",
       "      <td>3.682491</td>\n",
       "    </tr>\n",
       "    <tr>\n",
       "      <th>5</th>\n",
       "      <td>457</td>\n",
       "      <td>Kill Bill: Vol. 2</td>\n",
       "      <td>3.0</td>\n",
       "      <td>3.300550</td>\n",
       "    </tr>\n",
       "    <tr>\n",
       "      <th>6</th>\n",
       "      <td>486</td>\n",
       "      <td>Journey to the Center of the Earth</td>\n",
       "      <td>4.0</td>\n",
       "      <td>3.470178</td>\n",
       "    </tr>\n",
       "    <tr>\n",
       "      <th>7</th>\n",
       "      <td>514</td>\n",
       "      <td>Santana: Supernatural Live</td>\n",
       "      <td>3.0</td>\n",
       "      <td>3.385765</td>\n",
       "    </tr>\n",
       "    <tr>\n",
       "      <th>8</th>\n",
       "      <td>528</td>\n",
       "      <td>The Hitchhiker's Guide to the Galaxy</td>\n",
       "      <td>4.0</td>\n",
       "      <td>2.127235</td>\n",
       "    </tr>\n",
       "    <tr>\n",
       "      <th>9</th>\n",
       "      <td>594</td>\n",
       "      <td>By Hook or By Crook</td>\n",
       "      <td>2.0</td>\n",
       "      <td>3.015638</td>\n",
       "    </tr>\n",
       "  </tbody>\n",
       "</table>\n",
       "</div>"
      ],
      "text/plain": [
       "   movie_id                                 title  rating  rating_pred\n",
       "0         1                       Dinosaur Planet     3.0     3.102412\n",
       "1        30                Something's Gotta Give     3.0     3.821087\n",
       "2       188                            Dead Birds     3.0     2.546090\n",
       "3       191                      X2: X-Men United     4.0     3.857685\n",
       "4       283             If These Walls Could Talk     4.0     3.682491\n",
       "5       457                     Kill Bill: Vol. 2     3.0     3.300550\n",
       "6       486    Journey to the Center of the Earth     4.0     3.470178\n",
       "7       514            Santana: Supernatural Live     3.0     3.385765\n",
       "8       528  The Hitchhiker's Guide to the Galaxy     4.0     2.127235\n",
       "9       594                   By Hook or By Crook     2.0     3.015638"
      ]
     },
     "execution_count": 40,
     "metadata": {},
     "output_type": "execute_result"
    }
   ],
   "source": [
    "R_result.head(10)"
   ]
  },
  {
   "cell_type": "markdown",
   "id": "4b6d6cb7",
   "metadata": {},
   "source": [
    "#### user 2442가 좋아할만한 영화는?"
   ]
  },
  {
   "cell_type": "code",
   "execution_count": 39,
   "id": "3fa8d94d",
   "metadata": {
    "ExecuteTime": {
     "end_time": "2021-12-12T16:22:15.140568Z",
     "start_time": "2021-12-12T16:22:15.128702Z"
    }
   },
   "outputs": [
    {
     "data": {
      "text/html": [
       "<div>\n",
       "<style scoped>\n",
       "    .dataframe tbody tr th:only-of-type {\n",
       "        vertical-align: middle;\n",
       "    }\n",
       "\n",
       "    .dataframe tbody tr th {\n",
       "        vertical-align: top;\n",
       "    }\n",
       "\n",
       "    .dataframe thead th {\n",
       "        text-align: right;\n",
       "    }\n",
       "</style>\n",
       "<table border=\"1\" class=\"dataframe\">\n",
       "  <thead>\n",
       "    <tr style=\"text-align: right;\">\n",
       "      <th></th>\n",
       "      <th>movie_id</th>\n",
       "      <th>title</th>\n",
       "      <th>rating</th>\n",
       "      <th>rating_pred</th>\n",
       "    </tr>\n",
       "  </thead>\n",
       "  <tbody>\n",
       "    <tr>\n",
       "      <th>2858</th>\n",
       "      <td>2937</td>\n",
       "      <td>The Gate</td>\n",
       "      <td>NaN</td>\n",
       "      <td>4.728234</td>\n",
       "    </tr>\n",
       "    <tr>\n",
       "      <th>3364</th>\n",
       "      <td>3454</td>\n",
       "      <td>Kenny Chesney: Greatest Hits</td>\n",
       "      <td>NaN</td>\n",
       "      <td>4.687521</td>\n",
       "    </tr>\n",
       "    <tr>\n",
       "      <th>2998</th>\n",
       "      <td>3077</td>\n",
       "      <td>Turbulence</td>\n",
       "      <td>NaN</td>\n",
       "      <td>4.661542</td>\n",
       "    </tr>\n",
       "    <tr>\n",
       "      <th>2862</th>\n",
       "      <td>2941</td>\n",
       "      <td>Love Me Tonight</td>\n",
       "      <td>NaN</td>\n",
       "      <td>4.655401</td>\n",
       "    </tr>\n",
       "    <tr>\n",
       "      <th>1232</th>\n",
       "      <td>1255</td>\n",
       "      <td>Better Off Dead</td>\n",
       "      <td>NaN</td>\n",
       "      <td>4.641759</td>\n",
       "    </tr>\n",
       "    <tr>\n",
       "      <th>1465</th>\n",
       "      <td>1494</td>\n",
       "      <td>Appalachian Journey: Yo-Yo Ma/Edgar Meyer/Mark...</td>\n",
       "      <td>NaN</td>\n",
       "      <td>4.629214</td>\n",
       "    </tr>\n",
       "    <tr>\n",
       "      <th>2393</th>\n",
       "      <td>2451</td>\n",
       "      <td>Stealing Candy</td>\n",
       "      <td>NaN</td>\n",
       "      <td>4.601193</td>\n",
       "    </tr>\n",
       "    <tr>\n",
       "      <th>265</th>\n",
       "      <td>270</td>\n",
       "      <td>Sex and the City: Season 4</td>\n",
       "      <td>NaN</td>\n",
       "      <td>4.598906</td>\n",
       "    </tr>\n",
       "    <tr>\n",
       "      <th>3857</th>\n",
       "      <td>3960</td>\n",
       "      <td>Pollyanna</td>\n",
       "      <td>NaN</td>\n",
       "      <td>4.591619</td>\n",
       "    </tr>\n",
       "    <tr>\n",
       "      <th>4308</th>\n",
       "      <td>4425</td>\n",
       "      <td>Miranda (Tinto Brass)</td>\n",
       "      <td>NaN</td>\n",
       "      <td>4.586969</td>\n",
       "    </tr>\n",
       "  </tbody>\n",
       "</table>\n",
       "</div>"
      ],
      "text/plain": [
       "      movie_id                                              title  rating  \\\n",
       "2858      2937                                           The Gate     NaN   \n",
       "3364      3454                       Kenny Chesney: Greatest Hits     NaN   \n",
       "2998      3077                                         Turbulence     NaN   \n",
       "2862      2941                                    Love Me Tonight     NaN   \n",
       "1232      1255                                    Better Off Dead     NaN   \n",
       "1465      1494  Appalachian Journey: Yo-Yo Ma/Edgar Meyer/Mark...     NaN   \n",
       "2393      2451                                     Stealing Candy     NaN   \n",
       "265        270                         Sex and the City: Season 4     NaN   \n",
       "3857      3960                                          Pollyanna     NaN   \n",
       "4308      4425                              Miranda (Tinto Brass)     NaN   \n",
       "\n",
       "      rating_pred  \n",
       "2858     4.728234  \n",
       "3364     4.687521  \n",
       "2998     4.661542  \n",
       "2862     4.655401  \n",
       "1232     4.641759  \n",
       "1465     4.629214  \n",
       "2393     4.601193  \n",
       "265      4.598906  \n",
       "3857     4.591619  \n",
       "4308     4.586969  "
      ]
     },
     "execution_count": 39,
     "metadata": {},
     "output_type": "execute_result"
    }
   ],
   "source": [
    "R_result_recom = pd.merge(R_pred_2442, ratings[ratings['user_id']==2442].drop('user_id',axis=1), how='left', on='movie_id')\n",
    "R_result_recom = R_result_recom[R_result_recom['rating'].isna()==True]\n",
    "R_result_recom = R_result_recom[['movie_id','title','rating','rating_pred']].reset_index(drop=True)\n",
    "\n",
    "R_result_recom.sort_values(by='rating_pred', ascending=False).head(10)"
   ]
  },
  {
   "cell_type": "code",
   "execution_count": null,
   "id": "58d70ba9",
   "metadata": {},
   "outputs": [],
   "source": []
  }
 ],
 "metadata": {
  "colab": {
   "name": "책데이터_bpmf.ipynb",
   "provenance": []
  },
  "kernelspec": {
   "display_name": "Python 3 (ipykernel)",
   "language": "python",
   "name": "python3"
  },
  "language_info": {
   "codemirror_mode": {
    "name": "ipython",
    "version": 3
   },
   "file_extension": ".py",
   "mimetype": "text/x-python",
   "name": "python",
   "nbconvert_exporter": "python",
   "pygments_lexer": "ipython3",
   "version": "3.8.2"
  },
  "toc": {
   "base_numbering": 1,
   "nav_menu": {},
   "number_sections": true,
   "sideBar": true,
   "skip_h1_title": false,
   "title_cell": "Table of Contents",
   "title_sidebar": "Contents",
   "toc_cell": false,
   "toc_position": {},
   "toc_section_display": true,
   "toc_window_display": false
  },
  "varInspector": {
   "cols": {
    "lenName": 16,
    "lenType": 16,
    "lenVar": 40
   },
   "kernels_config": {
    "python": {
     "delete_cmd_postfix": "",
     "delete_cmd_prefix": "del ",
     "library": "var_list.py",
     "varRefreshCmd": "print(var_dic_list())"
    },
    "r": {
     "delete_cmd_postfix": ") ",
     "delete_cmd_prefix": "rm(",
     "library": "var_list.r",
     "varRefreshCmd": "cat(var_dic_list()) "
    }
   },
   "types_to_exclude": [
    "module",
    "function",
    "builtin_function_or_method",
    "instance",
    "_Feature"
   ],
   "window_display": false
  }
 },
 "nbformat": 4,
 "nbformat_minor": 5
}
