{
 "cells": [
  {
   "cell_type": "markdown",
   "id": "d5a80497",
   "metadata": {},
   "source": [
    "# Proobablistic Matrix Factorization"
   ]
  },
  {
   "cell_type": "code",
   "execution_count": 19,
   "id": "50b956fc",
   "metadata": {},
   "outputs": [],
   "source": [
    "import numpy as np\n",
    "import pandas as pd"
   ]
  },
  {
   "cell_type": "code",
   "execution_count": 59,
   "id": "1742abc7",
   "metadata": {},
   "outputs": [
    {
     "data": {
      "text/html": [
       "<div>\n",
       "<style scoped>\n",
       "    .dataframe tbody tr th:only-of-type {\n",
       "        vertical-align: middle;\n",
       "    }\n",
       "\n",
       "    .dataframe tbody tr th {\n",
       "        vertical-align: top;\n",
       "    }\n",
       "\n",
       "    .dataframe thead th {\n",
       "        text-align: right;\n",
       "    }\n",
       "</style>\n",
       "<table border=\"1\" class=\"dataframe\">\n",
       "  <thead>\n",
       "    <tr style=\"text-align: right;\">\n",
       "      <th></th>\n",
       "      <th>user_id</th>\n",
       "      <th>movie_id</th>\n",
       "      <th>rating</th>\n",
       "    </tr>\n",
       "  </thead>\n",
       "  <tbody>\n",
       "    <tr>\n",
       "      <th>0</th>\n",
       "      <td>2442</td>\n",
       "      <td>1</td>\n",
       "      <td>3.0</td>\n",
       "    </tr>\n",
       "    <tr>\n",
       "      <th>1</th>\n",
       "      <td>1719610</td>\n",
       "      <td>1</td>\n",
       "      <td>2.0</td>\n",
       "    </tr>\n",
       "    <tr>\n",
       "      <th>2</th>\n",
       "      <td>1011918</td>\n",
       "      <td>1</td>\n",
       "      <td>4.0</td>\n",
       "    </tr>\n",
       "    <tr>\n",
       "      <th>3</th>\n",
       "      <td>479924</td>\n",
       "      <td>1</td>\n",
       "      <td>5.0</td>\n",
       "    </tr>\n",
       "    <tr>\n",
       "      <th>4</th>\n",
       "      <td>2389367</td>\n",
       "      <td>1</td>\n",
       "      <td>1.0</td>\n",
       "    </tr>\n",
       "  </tbody>\n",
       "</table>\n",
       "</div>"
      ],
      "text/plain": [
       "   user_id  movie_id  rating\n",
       "0     2442         1     3.0\n",
       "1  1719610         1     2.0\n",
       "2  1011918         1     4.0\n",
       "3   479924         1     5.0\n",
       "4  2389367         1     1.0"
      ]
     },
     "execution_count": 59,
     "metadata": {},
     "output_type": "execute_result"
    }
   ],
   "source": [
    "ratings = pd.read_csv('netflix_data.csv')\n",
    "ratings.head()"
   ]
  },
  {
   "cell_type": "code",
   "execution_count": 60,
   "id": "fdd32500",
   "metadata": {},
   "outputs": [
    {
     "data": {
      "text/plain": [
       "(507852, 3)"
      ]
     },
     "execution_count": 60,
     "metadata": {},
     "output_type": "execute_result"
    }
   ],
   "source": [
    "ratings.shape"
   ]
  },
  {
   "cell_type": "code",
   "execution_count": 61,
   "id": "21b9629b",
   "metadata": {},
   "outputs": [],
   "source": [
    "user_dict = dict(zip(ratings.user_id.unique(), range(ratings.user_id.nunique())))\n",
    "movie_dict = dict(zip(ratings.movie_id.unique(), range(ratings.movie_id.nunique())))"
   ]
  },
  {
   "cell_type": "code",
   "execution_count": 62,
   "id": "04cd21f4",
   "metadata": {},
   "outputs": [],
   "source": [
    "ratings_dict = ratings.replace({'user_id':user_dict})\n",
    "ratings_dict = ratings_dict.replace({'movie_id':movie_dict})"
   ]
  },
  {
   "cell_type": "code",
   "execution_count": 63,
   "id": "fe1821cd",
   "metadata": {},
   "outputs": [
    {
     "data": {
      "text/html": [
       "<div>\n",
       "<style scoped>\n",
       "    .dataframe tbody tr th:only-of-type {\n",
       "        vertical-align: middle;\n",
       "    }\n",
       "\n",
       "    .dataframe tbody tr th {\n",
       "        vertical-align: top;\n",
       "    }\n",
       "\n",
       "    .dataframe thead th {\n",
       "        text-align: right;\n",
       "    }\n",
       "</style>\n",
       "<table border=\"1\" class=\"dataframe\">\n",
       "  <thead>\n",
       "    <tr style=\"text-align: right;\">\n",
       "      <th></th>\n",
       "      <th>user_id</th>\n",
       "      <th>movie_id</th>\n",
       "      <th>rating</th>\n",
       "    </tr>\n",
       "  </thead>\n",
       "  <tbody>\n",
       "    <tr>\n",
       "      <th>0</th>\n",
       "      <td>0</td>\n",
       "      <td>0</td>\n",
       "      <td>3.0</td>\n",
       "    </tr>\n",
       "    <tr>\n",
       "      <th>1</th>\n",
       "      <td>1</td>\n",
       "      <td>0</td>\n",
       "      <td>2.0</td>\n",
       "    </tr>\n",
       "    <tr>\n",
       "      <th>2</th>\n",
       "      <td>2</td>\n",
       "      <td>0</td>\n",
       "      <td>4.0</td>\n",
       "    </tr>\n",
       "    <tr>\n",
       "      <th>3</th>\n",
       "      <td>3</td>\n",
       "      <td>0</td>\n",
       "      <td>5.0</td>\n",
       "    </tr>\n",
       "    <tr>\n",
       "      <th>4</th>\n",
       "      <td>4</td>\n",
       "      <td>0</td>\n",
       "      <td>1.0</td>\n",
       "    </tr>\n",
       "    <tr>\n",
       "      <th>...</th>\n",
       "      <td>...</td>\n",
       "      <td>...</td>\n",
       "      <td>...</td>\n",
       "    </tr>\n",
       "    <tr>\n",
       "      <th>507847</th>\n",
       "      <td>257</td>\n",
       "      <td>4496</td>\n",
       "      <td>5.0</td>\n",
       "    </tr>\n",
       "    <tr>\n",
       "      <th>507848</th>\n",
       "      <td>8</td>\n",
       "      <td>4496</td>\n",
       "      <td>1.0</td>\n",
       "    </tr>\n",
       "    <tr>\n",
       "      <th>507849</th>\n",
       "      <td>3822</td>\n",
       "      <td>4496</td>\n",
       "      <td>1.0</td>\n",
       "    </tr>\n",
       "    <tr>\n",
       "      <th>507850</th>\n",
       "      <td>352</td>\n",
       "      <td>4496</td>\n",
       "      <td>4.0</td>\n",
       "    </tr>\n",
       "    <tr>\n",
       "      <th>507851</th>\n",
       "      <td>408</td>\n",
       "      <td>4496</td>\n",
       "      <td>1.0</td>\n",
       "    </tr>\n",
       "  </tbody>\n",
       "</table>\n",
       "<p>507852 rows × 3 columns</p>\n",
       "</div>"
      ],
      "text/plain": [
       "        user_id  movie_id  rating\n",
       "0             0         0     3.0\n",
       "1             1         0     2.0\n",
       "2             2         0     4.0\n",
       "3             3         0     5.0\n",
       "4             4         0     1.0\n",
       "...         ...       ...     ...\n",
       "507847      257      4496     5.0\n",
       "507848        8      4496     1.0\n",
       "507849     3822      4496     1.0\n",
       "507850      352      4496     4.0\n",
       "507851      408      4496     1.0\n",
       "\n",
       "[507852 rows x 3 columns]"
      ]
     },
     "execution_count": 63,
     "metadata": {},
     "output_type": "execute_result"
    }
   ],
   "source": [
    "ratings_dict"
   ]
  },
  {
   "cell_type": "markdown",
   "id": "af3c783e",
   "metadata": {},
   "source": [
    "https://github.com/fuhailin/Probabilistic-Matrix-Factorization/blob/master/RunExample.py"
   ]
  },
  {
   "cell_type": "code",
   "execution_count": 64,
   "id": "b9d7247b",
   "metadata": {},
   "outputs": [],
   "source": [
    "# train test 분리\n",
    "from sklearn.utils import shuffle\n",
    "TRAIN_SIZE = 0.75\n",
    "ratings_dict = shuffle(ratings_dict, random_state=1)\n",
    "cutoff = int(TRAIN_SIZE * len(ratings_dict))\n",
    "ratings_train = ratings_dict.iloc[:cutoff]\n",
    "ratings_test = ratings_dict.iloc[cutoff:]"
   ]
  },
  {
   "cell_type": "code",
   "execution_count": 67,
   "id": "057b1349",
   "metadata": {},
   "outputs": [],
   "source": [
    "class PMF(object):\n",
    "    def __init__(self, num_feat=10, epsilon=1, lamb_U=0.01, lamb_V = 0.01, momentum=0.8, maxepoch=20, num_batches=10, batch_size=1000):\n",
    "        self.num_feat = num_feat  # Number of latent features\n",
    "        self.epsilon = epsilon  # learning rate\n",
    "        self.lamb_U = lamb_U\n",
    "        self.lamb_V = lamb_V\n",
    "        self.momentum = momentum  # momentum of the gradient\n",
    "        self.maxepoch = maxepoch  \n",
    "        self.num_batches = num_batches  # Number of batches in each epoch (for SGD optimization)\n",
    "        self.batch_size = batch_size  # Number of training samples used in each batches (for SGD optimization)\n",
    "\n",
    "        self.w_Item = None  # Item feature vectors\n",
    "        self.w_User = None  # User feature vectors\n",
    "\n",
    "        self.training_process = []\n",
    "\n",
    "    def fit(self, train_vec, test_vec):\n",
    "        # mean subtraction\n",
    "        self.mean_inv = np.mean(train_vec[:, 2])  # mean of grading\n",
    "\n",
    "        pairs_train = train_vec.shape[0]  \n",
    "        pairs_test = test_vec.shape[0]  \n",
    "\n",
    "        # 1-p-i, 2-m-c\n",
    "        num_user = int(max(np.amax(train_vec[:, 0]), np.amax(test_vec[:, 0]))) + 1  # Column 0, Total number of users\n",
    "        num_item = int(max(np.amax(train_vec[:, 1]), np.amax(test_vec[:, 1]))) + 1  # Column 1, Total number of movies\n",
    "\n",
    "        incremental = False  \n",
    "        if ((not incremental) or (self.w_Item is None)):\n",
    "            # initialize\n",
    "            self.epoch = 0\n",
    "            self.w_Item = 0.1 * np.random.randn(num_item, self.num_feat) # U 초기치로 정규분포 난수 생성 M x D\n",
    "            self.w_User = 0.1 * np.random.randn(num_user, self.num_feat) # V 초기치로 정규분포 난수 생성 N x D\n",
    "\n",
    "            self.w_Item_inc = np.zeros((num_item, self.num_feat)) # gradient 담을 공간\n",
    "            self.w_User_inc = np.zeros((num_user, self.num_feat)) \n",
    "\n",
    "        while self.epoch < self.maxepoch:\n",
    "            self.epoch += 1\n",
    "\n",
    "            # Shuffle training truples\n",
    "            shuffled_order = np.arange(train_vec.shape[0])\n",
    "            np.random.shuffle(shuffled_order) \n",
    "\n",
    "            # Batch update\n",
    "            for batch in range(self.num_batches): \n",
    "\n",
    "                test = np.arange(self.batch_size * batch, self.batch_size * (batch + 1))\n",
    "                batch_idx = np.mod(test, shuffled_order.shape[0]) \n",
    "\n",
    "                batch_UserID = np.array(train_vec[shuffled_order[batch_idx], 0], dtype='int32')\n",
    "                batch_ItemID = np.array(train_vec[shuffled_order[batch_idx], 1], dtype='int32')\n",
    "\n",
    "                # Compute Objective Function\n",
    "                pred_out = np.sum(np.multiply(self.w_User[batch_UserID, :],\n",
    "                                              self.w_Item[batch_ItemID, :]), axis=1) \n",
    "\n",
    "                rawErr = pred_out - train_vec[shuffled_order[batch_idx], 2] + self.mean_inv\n",
    "\n",
    "                # Compute gradients\n",
    "                Ix_User = 2 * np.multiply(rawErr[:, np.newaxis], self.w_Item[batch_ItemID, :]) \\\n",
    "                       + self.lamb_U * self.w_User[batch_UserID, :]\n",
    "                Ix_Item = 2 * np.multiply(rawErr[:, np.newaxis], self.w_User[batch_UserID, :]) \\\n",
    "                       + self.lamb_V * (self.w_Item[batch_ItemID, :])  # np.newaxis :increase the dimension\n",
    "\n",
    "                dw_Item = np.zeros((num_item, self.num_feat))\n",
    "                dw_User = np.zeros((num_user, self.num_feat))\n",
    "\n",
    "                # loop to aggreate the gradients of the same element\n",
    "                for i in range(self.batch_size):\n",
    "                    dw_Item[batch_ItemID[i], :] += Ix_Item[i, :]\n",
    "                    dw_User[batch_UserID[i], :] += Ix_User[i, :]\n",
    "\n",
    "                # Update with momentum\n",
    "                self.w_Item_inc = self.momentum * self.w_Item_inc + self.epsilon * dw_Item / self.batch_size\n",
    "                self.w_User_inc = self.momentum * self.w_User_inc + self.epsilon * dw_User / self.batch_size\n",
    "\n",
    "                self.w_Item = self.w_Item - self.w_Item_inc\n",
    "                self.w_User = self.w_User - self.w_User_inc\n",
    "\n",
    "                \n",
    "                if batch == self.num_batches - 1:\n",
    "                    \n",
    "                    # Compute Objective Function after\n",
    "                    pred_out = np.sum(np.multiply(self.w_User[np.array(train_vec[:, 0], dtype='int32'), :],\n",
    "                                                  self.w_Item[np.array(train_vec[:, 1], dtype='int32'), :]),\n",
    "                                      axis=1)  # mean_inv subtracted\n",
    "                    rawErr = pred_out - train_vec[:, 2] + self.mean_inv\n",
    "                    obj = np.linalg.norm(rawErr) ** 2 + 0.5 * self.lamb_U * np.linalg.norm(self.w_User) ** 2 \\\n",
    "                        + 0.5 * self.lamb_V * np.linalg.norm(self.w_Item) ** 2\n",
    "                    rmse1 = np.sqrt(obj / pairs_train)\n",
    "\n",
    "                    # Compute validation error\n",
    "                    pred_out = np.sum(np.multiply(self.w_User[np.array(test_vec[:, 0], dtype='int32'), :],\n",
    "                                                  self.w_Item[np.array(test_vec[:, 1], dtype='int32'), :]),\n",
    "                                      axis=1)  # mean_inv subtracted\n",
    "                    rawErr = pred_out - test_vec[:, 2] + self.mean_inv\n",
    "                    rmse2 = np.linalg.norm(rawErr) / np.sqrt(pairs_test)\n",
    "                    \n",
    "                    self.training_process.append((self.epoch, rmse1, rmse2))\n",
    "\n",
    "                    if self.epoch % 5 == 0:\n",
    "                        print('iteration %f : Training RMSE %f, Test RMSE %f' % (self.epoch, rmse1, rmse2))\n",
    "        return self.training_process, self.w_User, self.w_Item\n",
    "\n",
    "    def predict(self, invID):\n",
    "        return np.dot(self.w_Item, self.w_User[int(invID), :]) + self.mean_inv\n",
    "\n",
    "    # ****************Set parameters by providing a parameter dictionary.  ***********#\n",
    "    def set_params(self, parameters):\n",
    "        if isinstance(parameters, dict):\n",
    "            self.num_feat = parameters.get(\"num_feat\", 10)\n",
    "            self.epsilon = parameters.get(\"epsilon\", 1)\n",
    "            #self._lambda = parameters.get(\"_lambda\", 0.1)\n",
    "            self.lamb_U = parameters.get(\"lamb_U\", 0.01)\n",
    "            self.lamb_V = parameters.get(\"lamb_V\", 0.01)\n",
    "            self.momentum = parameters.get(\"momentum\", 0.8)\n",
    "            self.maxepoch = parameters.get(\"maxepoch\", 20)\n",
    "            self.num_batches = parameters.get(\"num_batches\", 10)\n",
    "            self.batch_size = parameters.get(\"batch_size\", 1000)"
   ]
  },
  {
   "cell_type": "markdown",
   "id": "f5d370cc",
   "metadata": {},
   "source": [
    "## lambda_U = 0.01, lambda_V = 0.001"
   ]
  },
  {
   "cell_type": "code",
   "execution_count": 101,
   "id": "85b1488a",
   "metadata": {},
   "outputs": [],
   "source": [
    "pmf1 = PMF()\n",
    "pmf1.set_params({\"num_feat\": 10, \"epsilon\": 1, \"lamb_U\": 0.01, \"lamb_V\" : 0.001, \"momentum\": 0.9, \"maxepoch\": 50, \"num_batches\": 50,\n",
    "                \"batch_size\": 10000})"
   ]
  },
  {
   "cell_type": "code",
   "execution_count": 102,
   "id": "af1bcc9f",
   "metadata": {},
   "outputs": [
    {
     "name": "stdout",
     "output_type": "stream",
     "text": [
      "iteration 5.000000 : Training RMSE 1.092139, Test RMSE 1.097748\n",
      "iteration 10.000000 : Training RMSE 1.083200, Test RMSE 1.093431\n",
      "iteration 15.000000 : Training RMSE 1.036673, Test RMSE 1.061763\n",
      "iteration 20.000000 : Training RMSE 0.966133, Test RMSE 1.016425\n",
      "iteration 25.000000 : Training RMSE 0.910264, Test RMSE 0.985555\n",
      "iteration 30.000000 : Training RMSE 0.873517, Test RMSE 0.970445\n",
      "iteration 35.000000 : Training RMSE 0.847331, Test RMSE 0.963829\n",
      "iteration 40.000000 : Training RMSE 0.827433, Test RMSE 0.961478\n",
      "iteration 45.000000 : Training RMSE 0.811755, Test RMSE 0.961048\n",
      "iteration 50.000000 : Training RMSE 0.799079, Test RMSE 0.961526\n",
      "93.45875072479248\n"
     ]
    }
   ],
   "source": [
    "import time\n",
    "start = time.time()\n",
    "\n",
    "pmf_result1, U_1, V_1 = pmf1.fit(ratings_train.values, ratings_test.values)\n",
    "\n",
    "print(time.time()-start)"
   ]
  },
  {
   "cell_type": "code",
   "execution_count": 103,
   "id": "da8e6218",
   "metadata": {
    "scrolled": false
   },
   "outputs": [
    {
     "data": {
      "image/png": "[encoded data removed]",
      "text/plain": [
       "<Figure size 720x576 with 1 Axes>"
      ]
     },
     "metadata": {
      "needs_background": "light"
     },
     "output_type": "display_data"
    }
   ],
   "source": [
    "import matplotlib.pyplot as plt\n",
    "\n",
    "plt.figure(figsize=(10,8))\n",
    "train_epoch_list = np.array(pmf_result1)[:,0]\n",
    "train_rmse_list = np.array(pmf_result1)[:,1]\n",
    "test_rmse_list = np.array(pmf_result1)[:,2]\n",
    "\n",
    "plt.title('Training results with lamb.U = 0.01, lamb.V = 0.001')\n",
    "plt.plot(train_epoch_list, train_rmse_list, label='RMSE train', \n",
    "         color='#564d4d', marker='o', linestyle='-')\n",
    "plt.plot(train_epoch_list, test_rmse_list, label='RMSE test', \n",
    "         color='#831010', marker='o')\n",
    "plt.axhline(0.9514, color='#db0000', label='Netflix Baseline')\n",
    "\n",
    "plt.legend()\n",
    "plt.xlabel('Epochs')\n",
    "plt.ylabel('RMSE')\n",
    "plt.show()"
   ]
  },
  {
   "cell_type": "markdown",
   "id": "b5aa017b",
   "metadata": {},
   "source": [
    "## lambda_U = 0.001, lambda_V = 0.0001"
   ]
  },
  {
   "cell_type": "code",
   "execution_count": 81,
   "id": "0716f988",
   "metadata": {},
   "outputs": [],
   "source": [
    "pmf2 = PMF()\n",
    "pmf2.set_params({\"num_feat\": 10, \"epsilon\": 1, \"lamb_U\": 0.001, \"lamb_V\" : 0.0001, \"momentum\": 0.9, \"maxepoch\": 50, \"num_batches\": 50,\n",
    "                \"batch_size\": 10000})"
   ]
  },
  {
   "cell_type": "code",
   "execution_count": 82,
   "id": "506e6516",
   "metadata": {},
   "outputs": [
    {
     "name": "stdout",
     "output_type": "stream",
     "text": [
      "iteration 5.000000 : Training RMSE 1.092469, Test RMSE 1.097938\n",
      "iteration 10.000000 : Training RMSE 1.086773, Test RMSE 1.096717\n",
      "iteration 15.000000 : Training RMSE 1.053803, Test RMSE 1.079220\n",
      "iteration 20.000000 : Training RMSE 0.975602, Test RMSE 1.031999\n",
      "iteration 25.000000 : Training RMSE 0.920326, Test RMSE 0.999957\n",
      "iteration 30.000000 : Training RMSE 0.882587, Test RMSE 0.983795\n",
      "iteration 35.000000 : Training RMSE 0.854072, Test RMSE 0.976082\n",
      "iteration 40.000000 : Training RMSE 0.832624, Test RMSE 0.972781\n",
      "iteration 45.000000 : Training RMSE 0.816059, Test RMSE 0.971884\n",
      "iteration 50.000000 : Training RMSE 0.802856, Test RMSE 0.971628\n",
      "87.4956464767456\n"
     ]
    }
   ],
   "source": [
    "import time\n",
    "start = time.time()\n",
    "\n",
    "pmf_result2, U_2, V_2 = pmf2.fit(ratings_train.values, ratings_test.values)\n",
    "\n",
    "print(time.time()-start)"
   ]
  },
  {
   "cell_type": "code",
   "execution_count": 83,
   "id": "425f01a8",
   "metadata": {
    "scrolled": false
   },
   "outputs": [
    {
     "data": {
      "image/png": "[encoded data removed]",
      "text/plain": [
       "<Figure size 720x576 with 1 Axes>"
      ]
     },
     "metadata": {
      "needs_background": "light"
     },
     "output_type": "display_data"
    }
   ],
   "source": [
    "import matplotlib.pyplot as plt\n",
    "\n",
    "plt.figure(figsize=(10,8))\n",
    "train_epoch_list = np.array(pmf_result2)[:,0]\n",
    "train_rmse_list = np.array(pmf_result2)[:,1]\n",
    "test_rmse_list = np.array(pmf_result2)[:,2]\n",
    "\n",
    "plt.title('Training results with lamb.U = 0.01, lamb.V = 0.001')\n",
    "plt.plot(train_epoch_list, train_rmse_list, label='RMSE train', \n",
    "         color='#564d4d', marker='o', linestyle='-')\n",
    "plt.plot(train_epoch_list, test_rmse_list, label='RMSE test', \n",
    "         color='#831010', marker='o')\n",
    "plt.axhline(0.9514, color='#db0000', label='Netflix Baseline')\n",
    "\n",
    "plt.legend()\n",
    "plt.xlabel('Epochs')\n",
    "plt.ylabel('RMSE')\n",
    "plt.show()"
   ]
  },
  {
   "cell_type": "markdown",
   "id": "261b330f",
   "metadata": {},
   "source": [
    "## lambda_U = 0.001, lambda_V = 0.001"
   ]
  },
  {
   "cell_type": "code",
   "execution_count": 84,
   "id": "0716f988",
   "metadata": {},
   "outputs": [],
   "source": [
    "pmf3 = PMF()\n",
    "pmf3.set_params({\"num_feat\": 10, \"epsilon\": 1, \"lamb_U\": 0.001, \"lamb_V\" : 0.001, \"momentum\": 0.9, \"maxepoch\": 50, \"num_batches\": 50,\n",
    "                \"batch_size\": 10000})"
   ]
  },
  {
   "cell_type": "code",
   "execution_count": 85,
   "id": "506e6516",
   "metadata": {},
   "outputs": [
    {
     "name": "stdout",
     "output_type": "stream",
     "text": [
      "iteration 5.000000 : Training RMSE 1.092101, Test RMSE 1.097619\n",
      "iteration 10.000000 : Training RMSE 1.081648, Test RMSE 1.093030\n",
      "iteration 15.000000 : Training RMSE 1.026036, Test RMSE 1.058925\n",
      "iteration 20.000000 : Training RMSE 0.954062, Test RMSE 1.012528\n",
      "iteration 25.000000 : Training RMSE 0.908270, Test RMSE 0.986242\n",
      "iteration 30.000000 : Training RMSE 0.875367, Test RMSE 0.972549\n",
      "iteration 35.000000 : Training RMSE 0.849699, Test RMSE 0.965967\n",
      "iteration 40.000000 : Training RMSE 0.829462, Test RMSE 0.963364\n",
      "iteration 45.000000 : Training RMSE 0.813321, Test RMSE 0.962620\n",
      "iteration 50.000000 : Training RMSE 0.800215, Test RMSE 0.962753\n",
      "87.41289448738098\n"
     ]
    }
   ],
   "source": [
    "import time\n",
    "start = time.time()\n",
    "\n",
    "pmf_result3, U_3, V_3 = pmf3.fit(ratings_train.values, ratings_test.values)\n",
    "\n",
    "print(time.time()-start)"
   ]
  },
  {
   "cell_type": "code",
   "execution_count": 86,
   "id": "425f01a8",
   "metadata": {
    "scrolled": false
   },
   "outputs": [
    {
     "data": {
      "image/png": "[encoded data removed]",
      "text/plain": [
       "<Figure size 720x576 with 1 Axes>"
      ]
     },
     "metadata": {
      "needs_background": "light"
     },
     "output_type": "display_data"
    }
   ],
   "source": [
    "import matplotlib.pyplot as plt\n",
    "\n",
    "plt.figure(figsize=(10,8))\n",
    "train_epoch_list = np.array(pmf_result3)[:,0]\n",
    "train_rmse_list = np.array(pmf_result3)[:,1]\n",
    "test_rmse_list = np.array(pmf_result3)[:,2]\n",
    "\n",
    "plt.title('Training results with lamb.U = 0.001, lamb.V = 0.001')\n",
    "plt.plot(train_epoch_list, train_rmse_list, label='RMSE train', \n",
    "         color='#564d4d', marker='o', linestyle='-')\n",
    "plt.plot(train_epoch_list, test_rmse_list, label='RMSE test', \n",
    "         color='#831010', marker='o')\n",
    "plt.axhline(0.9514, color='#db0000', label='Netflix Baseline')\n",
    "\n",
    "plt.legend()\n",
    "plt.xlabel('Epochs')\n",
    "plt.ylabel('RMSE')\n",
    "plt.show()"
   ]
  },
  {
   "cell_type": "markdown",
   "id": "b5aa017b",
   "metadata": {},
   "source": [
    "## lambda_U = 0.01, lambda_V = 0.001 -- 학습률 0.1"
   ]
  },
  {
   "cell_type": "code",
   "execution_count": 218,
   "id": "0716f988",
   "metadata": {},
   "outputs": [],
   "source": [
    "pmf3_2 = PMF()\n",
    "pmf3_2.set_params({\"num_feat\": 10, \"epsilon\": 0.1, \"lamb_U\": 0.01, \"lamb_V\" : 0.001, \"momentum\": 0.9, \"maxepoch\": 50, \"num_batches\": 50,\n",
    "                \"batch_size\": 10000})"
   ]
  },
  {
   "cell_type": "code",
   "execution_count": 219,
   "id": "506e6516",
   "metadata": {},
   "outputs": [
    {
     "name": "stdout",
     "output_type": "stream",
     "text": [
      "iteration 5.000000 : Training RMSE 1.094744, Test RMSE 1.097850\n",
      "iteration 10.000000 : Training RMSE 1.094453, Test RMSE 1.097837\n",
      "iteration 15.000000 : Training RMSE 1.094164, Test RMSE 1.097826\n",
      "iteration 20.000000 : Training RMSE 1.093873, Test RMSE 1.097814\n",
      "iteration 25.000000 : Training RMSE 1.093576, Test RMSE 1.097798\n",
      "iteration 30.000000 : Training RMSE 1.093267, Test RMSE 1.097778\n",
      "iteration 35.000000 : Training RMSE 1.092938, Test RMSE 1.097749\n",
      "iteration 40.000000 : Training RMSE 1.092584, Test RMSE 1.097706\n",
      "iteration 45.000000 : Training RMSE 1.092194, Test RMSE 1.097644\n",
      "iteration 50.000000 : Training RMSE 1.091755, Test RMSE 1.097558\n",
      "346.0560326576233\n"
     ]
    }
   ],
   "source": [
    "import time\n",
    "start = time.time()\n",
    "\n",
    "pmf_result3_2, U_3_2, V_3_2 = pmf3_2.fit(ratings_train.values, ratings_test.values)\n",
    "\n",
    "print(time.time()-start)"
   ]
  },
  {
   "cell_type": "code",
   "execution_count": 221,
   "id": "00143417",
   "metadata": {},
   "outputs": [
    {
     "data": {
      "image/png": "[encoded data removed]",
      "text/plain": [
       "<Figure size 720x576 with 1 Axes>"
      ]
     },
     "metadata": {
      "needs_background": "light"
     },
     "output_type": "display_data"
    }
   ],
   "source": [
    "import matplotlib.pyplot as plt\n",
    "\n",
    "plt.figure(figsize=(10,8))\n",
    "train_epoch_list = np.array(pmf_result3_2)[:,0]\n",
    "train_rmse_list = np.array(pmf_result3_2)[:,1]\n",
    "test_rmse_list = np.array(pmf_result3_2)[:,2]\n",
    "\n",
    "plt.title('Training results with lamb.U = 0.01, lamb.V = 0.001 and lr = 0.01')\n",
    "plt.plot(train_epoch_list, train_rmse_list, label='RMSE train', \n",
    "         color='#564d4d', marker='o', linestyle='-')\n",
    "plt.plot(train_epoch_list, test_rmse_list, label='RMSE test', \n",
    "         color='#831010', marker='o')\n",
    "plt.axhline(0.9514, color='#db0000', label='Netflix Baseline')\n",
    "\n",
    "plt.legend()\n",
    "plt.xlabel('Epochs')\n",
    "plt.ylabel('RMSE')\n",
    "plt.show()"
   ]
  },
  {
   "cell_type": "markdown",
   "id": "b5aa017b",
   "metadata": {},
   "source": [
    "## lambda_U = 0.01, lambda_V = 0.001 -- 학습률 0.05"
   ]
  },
  {
   "cell_type": "code",
   "execution_count": 222,
   "id": "0716f988",
   "metadata": {},
   "outputs": [],
   "source": [
    "pmf3_3 = PMF()\n",
    "pmf3_3.set_params({\"num_feat\": 10, \"epsilon\": 0.05, \"lamb_U\": 0.01, \"lamb_V\" : 0.001, \"momentum\": 0.9, \"maxepoch\": 50, \"num_batches\": 50,\n",
    "                \"batch_size\": 10000})"
   ]
  },
  {
   "cell_type": "code",
   "execution_count": 223,
   "id": "506e6516",
   "metadata": {},
   "outputs": [
    {
     "name": "stdout",
     "output_type": "stream",
     "text": [
      "iteration 5.000000 : Training RMSE 1.094916, Test RMSE 1.097988\n",
      "iteration 10.000000 : Training RMSE 1.094761, Test RMSE 1.097982\n",
      "iteration 15.000000 : Training RMSE 1.094609, Test RMSE 1.097978\n",
      "iteration 20.000000 : Training RMSE 1.094459, Test RMSE 1.097974\n",
      "iteration 25.000000 : Training RMSE 1.094311, Test RMSE 1.097971\n",
      "iteration 30.000000 : Training RMSE 1.094162, Test RMSE 1.097969\n",
      "iteration 35.000000 : Training RMSE 1.094014, Test RMSE 1.097966\n",
      "iteration 40.000000 : Training RMSE 1.093865, Test RMSE 1.097964\n",
      "iteration 45.000000 : Training RMSE 1.093714, Test RMSE 1.097962\n",
      "iteration 50.000000 : Training RMSE 1.093562, Test RMSE 1.097958\n",
      "342.7715289592743\n"
     ]
    }
   ],
   "source": [
    "import time\n",
    "start = time.time()\n",
    "\n",
    "pmf_result3_3, U_3_3, V_3_3 = pmf3_3.fit(ratings_train.values, ratings_test.values)\n",
    "\n",
    "print(time.time()-start)"
   ]
  },
  {
   "cell_type": "code",
   "execution_count": 224,
   "id": "b152feec",
   "metadata": {},
   "outputs": [
    {
     "data": {
      "image/png": "[encoded data removed]",
      "text/plain": [
       "<Figure size 720x576 with 1 Axes>"
      ]
     },
     "metadata": {
      "needs_background": "light"
     },
     "output_type": "display_data"
    }
   ],
   "source": [
    "import matplotlib.pyplot as plt\n",
    "\n",
    "plt.figure(figsize=(10,8))\n",
    "train_epoch_list = np.array(pmf_result3_3)[:,0]\n",
    "train_rmse_list = np.array(pmf_result3_3)[:,1]\n",
    "test_rmse_list = np.array(pmf_result3_3)[:,2]\n",
    "\n",
    "plt.title('Training results with lamb.U = 0.01, lamb.V = 0.001 and lr = 0.05')\n",
    "plt.plot(train_epoch_list, train_rmse_list, label='RMSE train', \n",
    "         color='#564d4d', marker='o', linestyle='-')\n",
    "plt.plot(train_epoch_list, test_rmse_list, label='RMSE test', \n",
    "         color='#831010', marker='o')\n",
    "plt.axhline(0.9514, color='#db0000', label='Netflix Baseline')\n",
    "\n",
    "plt.legend()\n",
    "plt.xlabel('Epochs')\n",
    "plt.ylabel('RMSE')\n",
    "plt.show()"
   ]
  },
  {
   "cell_type": "markdown",
   "id": "b5aa017b",
   "metadata": {},
   "source": [
    "## lambda_U = 0.01, lambda_V = 0.001 -- 학습률 2"
   ]
  },
  {
   "cell_type": "code",
   "execution_count": 225,
   "id": "0716f988",
   "metadata": {},
   "outputs": [],
   "source": [
    "pmf3_4 = PMF()\n",
    "pmf3_4.set_params({\"num_feat\": 10, \"epsilon\": 2, \"lamb_U\": 0.01, \"lamb_V\" : 0.001, \"momentum\": 0.9, \"maxepoch\": 50, \"num_batches\": 50,\n",
    "                \"batch_size\": 10000})"
   ]
  },
  {
   "cell_type": "code",
   "execution_count": 226,
   "id": "506e6516",
   "metadata": {},
   "outputs": [
    {
     "name": "stdout",
     "output_type": "stream",
     "text": [
      "iteration 5.000000 : Training RMSE 1.083466, Test RMSE 1.093764\n",
      "iteration 10.000000 : Training RMSE 0.959821, Test RMSE 1.014407\n",
      "iteration 15.000000 : Training RMSE 0.879455, Test RMSE 0.975586\n",
      "iteration 20.000000 : Training RMSE 0.833035, Test RMSE 0.966096\n",
      "iteration 25.000000 : Training RMSE 0.803421, Test RMSE 0.965001\n",
      "iteration 30.000000 : Training RMSE 0.783386, Test RMSE 0.966616\n",
      "iteration 35.000000 : Training RMSE 0.768821, Test RMSE 0.968616\n",
      "iteration 40.000000 : Training RMSE 0.757597, Test RMSE 0.970956\n",
      "iteration 45.000000 : Training RMSE 0.748618, Test RMSE 0.973160\n",
      "iteration 50.000000 : Training RMSE 0.741224, Test RMSE 0.975219\n",
      "414.8878321647644\n"
     ]
    }
   ],
   "source": [
    "import time\n",
    "start = time.time()\n",
    "\n",
    "pmf_result3_4, U_3_4, V_3_4 = pmf3_4.fit(ratings_train.values, ratings_test.values)\n",
    "\n",
    "print(time.time()-start)"
   ]
  },
  {
   "cell_type": "code",
   "execution_count": 227,
   "id": "01d57894",
   "metadata": {},
   "outputs": [
    {
     "data": {
      "image/png": "[encoded data removed]",
      "text/plain": [
       "<Figure size 720x576 with 1 Axes>"
      ]
     },
     "metadata": {
      "needs_background": "light"
     },
     "output_type": "display_data"
    }
   ],
   "source": [
    "import matplotlib.pyplot as plt\n",
    "\n",
    "plt.figure(figsize=(10,8))\n",
    "train_epoch_list = np.array(pmf_result3_4)[:,0]\n",
    "train_rmse_list = np.array(pmf_result3_4)[:,1]\n",
    "test_rmse_list = np.array(pmf_result3_4)[:,2]\n",
    "\n",
    "plt.title('Training results with lamb.U = 0.01, lamb.V = 0.001 and lr = 2')\n",
    "plt.plot(train_epoch_list, train_rmse_list, label='RMSE train', \n",
    "         color='#564d4d', marker='o', linestyle='-')\n",
    "plt.plot(train_epoch_list, test_rmse_list, label='RMSE test', \n",
    "         color='#831010', marker='o')\n",
    "plt.axhline(0.9514, color='#db0000', label='Netflix Baseline')\n",
    "\n",
    "plt.legend()\n",
    "plt.xlabel('Epochs')\n",
    "plt.ylabel('RMSE')\n",
    "plt.show()"
   ]
  },
  {
   "cell_type": "markdown",
   "id": "b5aa017b",
   "metadata": {},
   "source": [
    "## lambda_U = 0.01, lambda_V = 0.001 -- momentum 0.8"
   ]
  },
  {
   "cell_type": "code",
   "execution_count": 269,
   "id": "0716f988",
   "metadata": {},
   "outputs": [],
   "source": [
    "pmf4 = PMF()\n",
    "pmf4.set_params({\"num_feat\": 10, \"epsilon\": 1, \"lamb_U\": 0.01, \"lamb_V\" : 0.001, \"momentum\": 0.8, \"maxepoch\": 100, \"num_batches\": 50,\n",
    "                \"batch_size\": 10000})"
   ]
  },
  {
   "cell_type": "code",
   "execution_count": 229,
   "id": "0b33c07f",
   "metadata": {},
   "outputs": [
    {
     "name": "stdout",
     "output_type": "stream",
     "text": [
      "iteration 5.000000 : Training RMSE 1.093582, Test RMSE 1.097825\n",
      "iteration 10.000000 : Training RMSE 1.091947, Test RMSE 1.097682\n",
      "iteration 15.000000 : Training RMSE 1.089144, Test RMSE 1.096997\n",
      "iteration 20.000000 : Training RMSE 1.082557, Test RMSE 1.094202\n",
      "iteration 25.000000 : Training RMSE 1.065710, Test RMSE 1.084927\n",
      "iteration 30.000000 : Training RMSE 1.031744, Test RMSE 1.063578\n",
      "iteration 35.000000 : Training RMSE 0.989350, Test RMSE 1.035103\n",
      "iteration 40.000000 : Training RMSE 0.953531, Test RMSE 1.011821\n",
      "iteration 45.000000 : Training RMSE 0.926222, Test RMSE 0.995666\n",
      "iteration 50.000000 : Training RMSE 0.904230, Test RMSE 0.984106\n",
      "iteration 55.000000 : Training RMSE 0.885840, Test RMSE 0.975752\n",
      "iteration 60.000000 : Training RMSE 0.870245, Test RMSE 0.969903\n",
      "iteration 65.000000 : Training RMSE 0.856818, Test RMSE 0.965863\n",
      "iteration 70.000000 : Training RMSE 0.845176, Test RMSE 0.963349\n",
      "iteration 75.000000 : Training RMSE 0.834949, Test RMSE 0.961743\n",
      "iteration 80.000000 : Training RMSE 0.825932, Test RMSE 0.960836\n",
      "iteration 85.000000 : Training RMSE 0.817907, Test RMSE 0.960544\n",
      "iteration 90.000000 : Training RMSE 0.810723, Test RMSE 0.960505\n",
      "iteration 95.000000 : Training RMSE 0.804259, Test RMSE 0.960696\n",
      "iteration 100.000000 : Training RMSE 0.798410, Test RMSE 0.961010\n",
      "904.6325843334198\n"
     ]
    }
   ],
   "source": [
    "#### import time\n",
    "start = time.time()\n",
    "\n",
    "pmf_result4, U_4, V_4 = pmf4.fit(ratings_train.values, ratings_test.values)\n",
    "\n",
    "print(time.time()-start)"
   ]
  },
  {
   "cell_type": "code",
   "execution_count": 230,
   "id": "e69c400e",
   "metadata": {},
   "outputs": [],
   "source": [
    "pd.DataFrame(pmf_result4, columns = ['epoch', 'train_rmse', 'test_rmse']).to_csv('pmf_result.csv', index=False)"
   ]
  },
  {
   "cell_type": "code",
   "execution_count": 231,
   "id": "425f01a8",
   "metadata": {
    "scrolled": false
   },
   "outputs": [
    {
     "data": {
      "image/png": "[encoded data removed]",
      "text/plain": [
       "<Figure size 720x576 with 1 Axes>"
      ]
     },
     "metadata": {
      "needs_background": "light"
     },
     "output_type": "display_data"
    }
   ],
   "source": [
    "import matplotlib.pyplot as plt\n",
    "\n",
    "plt.figure(figsize=(10,8))\n",
    "train_epoch_list = np.array(pmf_result4)[:,0]\n",
    "train_rmse_list = np.array(pmf_result4)[:,1]\n",
    "test_rmse_list = np.array(pmf_result4)[:,2]\n",
    "\n",
    "plt.title('Training results with lamb.U = 0.01, lamb.V = 0.001 and momentum = 0.8')\n",
    "plt.plot(train_epoch_list, train_rmse_list, label='RMSE train', \n",
    "         color='#564d4d', marker='o', linestyle='-')\n",
    "plt.plot(train_epoch_list, test_rmse_list, label='RMSE test', \n",
    "         color='#831010', marker='o')\n",
    "plt.axhline(0.9514, color='#db0000', label='Netflix Baseline')\n",
    "\n",
    "plt.legend()\n",
    "plt.xlabel('Epochs')\n",
    "plt.ylabel('RMSE')\n",
    "plt.show()"
   ]
  },
  {
   "cell_type": "markdown",
   "id": "b5aa017b",
   "metadata": {},
   "source": [
    "## lambda_U = 0.01, lambda_V = 0.001 -- momentum 0.5"
   ]
  },
  {
   "cell_type": "code",
   "execution_count": 232,
   "id": "0716f988",
   "metadata": {},
   "outputs": [],
   "source": [
    "pmf4_2 = PMF()\n",
    "pmf4_2.set_params({\"num_feat\": 10, \"epsilon\": 1, \"lamb_U\": 0.01, \"lamb_V\" : 0.001, \"momentum\": 0.5, \"maxepoch\": 100, \"num_batches\": 50,\n",
    "                \"batch_size\": 10000})"
   ]
  },
  {
   "cell_type": "code",
   "execution_count": 233,
   "id": "c83f942f",
   "metadata": {},
   "outputs": [
    {
     "name": "stdout",
     "output_type": "stream",
     "text": [
      "iteration 5.000000 : Training RMSE 1.094399, Test RMSE 1.097937\n",
      "iteration 10.000000 : Training RMSE 1.093829, Test RMSE 1.097931\n",
      "iteration 15.000000 : Training RMSE 1.093238, Test RMSE 1.097925\n",
      "iteration 20.000000 : Training RMSE 1.092597, Test RMSE 1.097907\n",
      "iteration 25.000000 : Training RMSE 1.091850, Test RMSE 1.097856\n",
      "iteration 30.000000 : Training RMSE 1.090925, Test RMSE 1.097746\n",
      "iteration 35.000000 : Training RMSE 1.089718, Test RMSE 1.097526\n",
      "iteration 40.000000 : Training RMSE 1.088050, Test RMSE 1.097114\n",
      "iteration 45.000000 : Training RMSE 1.085665, Test RMSE 1.096364\n",
      "iteration 50.000000 : Training RMSE 1.082167, Test RMSE 1.095052\n",
      "iteration 55.000000 : Training RMSE 1.077020, Test RMSE 1.092814\n",
      "iteration 60.000000 : Training RMSE 1.069579, Test RMSE 1.089168\n",
      "iteration 65.000000 : Training RMSE 1.059232, Test RMSE 1.083570\n",
      "iteration 70.000000 : Training RMSE 1.045814, Test RMSE 1.075613\n",
      "iteration 75.000000 : Training RMSE 1.029801, Test RMSE 1.065410\n",
      "iteration 80.000000 : Training RMSE 1.012419, Test RMSE 1.053759\n",
      "iteration 85.000000 : Training RMSE 0.995146, Test RMSE 1.041906\n",
      "iteration 90.000000 : Training RMSE 0.978996, Test RMSE 1.030802\n",
      "iteration 95.000000 : Training RMSE 0.964381, Test RMSE 1.020944\n",
      "iteration 100.000000 : Training RMSE 0.951259, Test RMSE 1.012351\n",
      "888.2746319770813\n"
     ]
    }
   ],
   "source": [
    "import time\n",
    "start = time.time()\n",
    "\n",
    "pmf_result4_2, U_4_2, V_4_2 = pmf4_2.fit(ratings_train.values, ratings_test.values)\n",
    "\n",
    "print(time.time()-start)"
   ]
  },
  {
   "cell_type": "code",
   "execution_count": 234,
   "id": "425f01a8",
   "metadata": {
    "scrolled": false
   },
   "outputs": [
    {
     "data": {
      "image/png": "[encoded data removed]",
      "text/plain": [
       "<Figure size 720x576 with 1 Axes>"
      ]
     },
     "metadata": {
      "needs_background": "light"
     },
     "output_type": "display_data"
    }
   ],
   "source": [
    "import matplotlib.pyplot as plt\n",
    "\n",
    "plt.figure(figsize=(10,8))\n",
    "train_epoch_list = np.array(pmf_result4_2)[:,0]\n",
    "train_rmse_list = np.array(pmf_result4_2)[:,1]\n",
    "test_rmse_list = np.array(pmf_result4_2)[:,2]\n",
    "\n",
    "plt.title('Training results with lamb.U = 0.01, lamb.V = 0.001 and momentum = 0.5')\n",
    "plt.plot(train_epoch_list, train_rmse_list, label='RMSE train', \n",
    "         color='#564d4d', marker='o', linestyle='-')\n",
    "plt.plot(train_epoch_list, test_rmse_list, label='RMSE test', \n",
    "         color='#831010', marker='o')\n",
    "plt.axhline(0.9514, color='#db0000', label='Netflix Baseline')\n",
    "\n",
    "plt.legend()\n",
    "plt.xlabel('Epochs')\n",
    "plt.ylabel('RMSE')\n",
    "plt.show()"
   ]
  },
  {
   "cell_type": "markdown",
   "id": "01533819",
   "metadata": {},
   "source": [
    "## 최종 모델 결과 확인"
   ]
  },
  {
   "cell_type": "code",
   "execution_count": 256,
   "id": "98a891ec",
   "metadata": {},
   "outputs": [],
   "source": [
    "df_movies = pd.read_csv('netflix_data/movie_titles.csv', encoding = \"ISO-8859-1\", header = None, names = ['movie_id', 'year', 'title'])\n",
    "df_movies = df_movies.replace({'user_id':user_dict})\n",
    "df_movies = df_movies.replace({'movie_id':movie_dict})"
   ]
  },
  {
   "cell_type": "code",
   "execution_count": 257,
   "id": "94a01abb",
   "metadata": {},
   "outputs": [
    {
     "name": "stdout",
     "output_type": "stream",
     "text": [
      "0\n"
     ]
    }
   ],
   "source": [
    "user_id = user_dict.get(2442)\n",
    "print(user_id)"
   ]
  },
  {
   "cell_type": "code",
   "execution_count": 258,
   "id": "ca76d8ba",
   "metadata": {},
   "outputs": [],
   "source": [
    "R_2442 = pd.DataFrame(pmf4.predict(user_id)).reset_index()\n",
    "R_2442.columns = ['movie_id','rating_pred']"
   ]
  },
  {
   "cell_type": "code",
   "execution_count": 259,
   "id": "32df877d",
   "metadata": {},
   "outputs": [
    {
     "data": {
      "text/html": [
       "<div>\n",
       "<style scoped>\n",
       "    .dataframe tbody tr th:only-of-type {\n",
       "        vertical-align: middle;\n",
       "    }\n",
       "\n",
       "    .dataframe tbody tr th {\n",
       "        vertical-align: top;\n",
       "    }\n",
       "\n",
       "    .dataframe thead th {\n",
       "        text-align: right;\n",
       "    }\n",
       "</style>\n",
       "<table border=\"1\" class=\"dataframe\">\n",
       "  <thead>\n",
       "    <tr style=\"text-align: right;\">\n",
       "      <th></th>\n",
       "      <th>movie_id</th>\n",
       "      <th>rating_pred</th>\n",
       "    </tr>\n",
       "  </thead>\n",
       "  <tbody>\n",
       "    <tr>\n",
       "      <th>0</th>\n",
       "      <td>0</td>\n",
       "      <td>3.565371</td>\n",
       "    </tr>\n",
       "    <tr>\n",
       "      <th>1</th>\n",
       "      <td>1</td>\n",
       "      <td>3.641833</td>\n",
       "    </tr>\n",
       "    <tr>\n",
       "      <th>2</th>\n",
       "      <td>2</td>\n",
       "      <td>3.778583</td>\n",
       "    </tr>\n",
       "    <tr>\n",
       "      <th>3</th>\n",
       "      <td>3</td>\n",
       "      <td>3.624064</td>\n",
       "    </tr>\n",
       "    <tr>\n",
       "      <th>4</th>\n",
       "      <td>4</td>\n",
       "      <td>3.646987</td>\n",
       "    </tr>\n",
       "  </tbody>\n",
       "</table>\n",
       "</div>"
      ],
      "text/plain": [
       "   movie_id  rating_pred\n",
       "0         0     3.565371\n",
       "1         1     3.641833\n",
       "2         2     3.778583\n",
       "3         3     3.624064\n",
       "4         4     3.646987"
      ]
     },
     "execution_count": 259,
     "metadata": {},
     "output_type": "execute_result"
    }
   ],
   "source": [
    "R_2442.head()"
   ]
  },
  {
   "cell_type": "code",
   "execution_count": 260,
   "id": "a7b47839",
   "metadata": {},
   "outputs": [
    {
     "data": {
      "text/html": [
       "<div>\n",
       "<style scoped>\n",
       "    .dataframe tbody tr th:only-of-type {\n",
       "        vertical-align: middle;\n",
       "    }\n",
       "\n",
       "    .dataframe tbody tr th {\n",
       "        vertical-align: top;\n",
       "    }\n",
       "\n",
       "    .dataframe thead th {\n",
       "        text-align: right;\n",
       "    }\n",
       "</style>\n",
       "<table border=\"1\" class=\"dataframe\">\n",
       "  <thead>\n",
       "    <tr style=\"text-align: right;\">\n",
       "      <th></th>\n",
       "      <th>movie_id</th>\n",
       "      <th>year</th>\n",
       "      <th>title</th>\n",
       "    </tr>\n",
       "  </thead>\n",
       "  <tbody>\n",
       "    <tr>\n",
       "      <th>0</th>\n",
       "      <td>0</td>\n",
       "      <td>2003.0</td>\n",
       "      <td>Dinosaur Planet</td>\n",
       "    </tr>\n",
       "    <tr>\n",
       "      <th>1</th>\n",
       "      <td>1</td>\n",
       "      <td>2004.0</td>\n",
       "      <td>Isle of Man TT 2004 Review</td>\n",
       "    </tr>\n",
       "    <tr>\n",
       "      <th>2</th>\n",
       "      <td>2</td>\n",
       "      <td>1997.0</td>\n",
       "      <td>Character</td>\n",
       "    </tr>\n",
       "    <tr>\n",
       "      <th>3</th>\n",
       "      <td>3</td>\n",
       "      <td>1994.0</td>\n",
       "      <td>Paula Abdul's Get Up &amp; Dance</td>\n",
       "    </tr>\n",
       "    <tr>\n",
       "      <th>4</th>\n",
       "      <td>4</td>\n",
       "      <td>2004.0</td>\n",
       "      <td>The Rise and Fall of ECW</td>\n",
       "    </tr>\n",
       "  </tbody>\n",
       "</table>\n",
       "</div>"
      ],
      "text/plain": [
       "   movie_id    year                         title\n",
       "0         0  2003.0               Dinosaur Planet\n",
       "1         1  2004.0    Isle of Man TT 2004 Review\n",
       "2         2  1997.0                     Character\n",
       "3         3  1994.0  Paula Abdul's Get Up & Dance\n",
       "4         4  2004.0      The Rise and Fall of ECW"
      ]
     },
     "execution_count": 260,
     "metadata": {},
     "output_type": "execute_result"
    }
   ],
   "source": [
    "df_movies.head()"
   ]
  },
  {
   "cell_type": "code",
   "execution_count": 261,
   "id": "3ec77923",
   "metadata": {},
   "outputs": [
    {
     "data": {
      "text/plain": [
       "array([4303, 3667, 4352, ..., 1810,  548, 3745], dtype=int64)"
      ]
     },
     "execution_count": 261,
     "metadata": {},
     "output_type": "execute_result"
    }
   ],
   "source": [
    "ratings_dict.movie_id.unique()"
   ]
  },
  {
   "cell_type": "code",
   "execution_count": 262,
   "id": "e70bf056",
   "metadata": {},
   "outputs": [],
   "source": [
    "R_result = pd.merge(pd.merge(df_movies, R_2442, how='inner', on='movie_id'), \n",
    "                    ratings_dict[ratings_dict['user_id']==user_id].drop('user_id',axis=1), how='left', on='movie_id')"
   ]
  },
  {
   "cell_type": "code",
   "execution_count": 263,
   "id": "3df275e3",
   "metadata": {},
   "outputs": [],
   "source": [
    "R_fitted = R_result[R_result['rating'].isna()==False]\n",
    "R_fitted = R_fitted[['movie_id','title','rating','rating_pred']].reset_index(drop=True)"
   ]
  },
  {
   "cell_type": "code",
   "execution_count": 265,
   "id": "2b87aed3",
   "metadata": {},
   "outputs": [
    {
     "data": {
      "text/html": [
       "<div>\n",
       "<style scoped>\n",
       "    .dataframe tbody tr th:only-of-type {\n",
       "        vertical-align: middle;\n",
       "    }\n",
       "\n",
       "    .dataframe tbody tr th {\n",
       "        vertical-align: top;\n",
       "    }\n",
       "\n",
       "    .dataframe thead th {\n",
       "        text-align: right;\n",
       "    }\n",
       "</style>\n",
       "<table border=\"1\" class=\"dataframe\">\n",
       "  <thead>\n",
       "    <tr style=\"text-align: right;\">\n",
       "      <th></th>\n",
       "      <th>movie_id</th>\n",
       "      <th>title</th>\n",
       "      <th>rating</th>\n",
       "      <th>rating_pred</th>\n",
       "    </tr>\n",
       "  </thead>\n",
       "  <tbody>\n",
       "    <tr>\n",
       "      <th>0</th>\n",
       "      <td>0</td>\n",
       "      <td>Dinosaur Planet</td>\n",
       "      <td>3.0</td>\n",
       "      <td>3.565371</td>\n",
       "    </tr>\n",
       "    <tr>\n",
       "      <th>1</th>\n",
       "      <td>29</td>\n",
       "      <td>Something's Gotta Give</td>\n",
       "      <td>3.0</td>\n",
       "      <td>3.823515</td>\n",
       "    </tr>\n",
       "    <tr>\n",
       "      <th>2</th>\n",
       "      <td>187</td>\n",
       "      <td>Dead Birds</td>\n",
       "      <td>3.0</td>\n",
       "      <td>3.408520</td>\n",
       "    </tr>\n",
       "    <tr>\n",
       "      <th>3</th>\n",
       "      <td>190</td>\n",
       "      <td>X2: X-Men United</td>\n",
       "      <td>4.0</td>\n",
       "      <td>4.054227</td>\n",
       "    </tr>\n",
       "    <tr>\n",
       "      <th>4</th>\n",
       "      <td>282</td>\n",
       "      <td>If These Walls Could Talk</td>\n",
       "      <td>4.0</td>\n",
       "      <td>3.710069</td>\n",
       "    </tr>\n",
       "    <tr>\n",
       "      <th>5</th>\n",
       "      <td>456</td>\n",
       "      <td>Kill Bill: Vol. 2</td>\n",
       "      <td>3.0</td>\n",
       "      <td>3.366525</td>\n",
       "    </tr>\n",
       "    <tr>\n",
       "      <th>6</th>\n",
       "      <td>485</td>\n",
       "      <td>Journey to the Center of the Earth</td>\n",
       "      <td>4.0</td>\n",
       "      <td>3.456025</td>\n",
       "    </tr>\n",
       "    <tr>\n",
       "      <th>7</th>\n",
       "      <td>513</td>\n",
       "      <td>Santana: Supernatural Live</td>\n",
       "      <td>3.0</td>\n",
       "      <td>3.543549</td>\n",
       "    </tr>\n",
       "    <tr>\n",
       "      <th>8</th>\n",
       "      <td>527</td>\n",
       "      <td>The Hitchhiker's Guide to the Galaxy</td>\n",
       "      <td>4.0</td>\n",
       "      <td>2.736385</td>\n",
       "    </tr>\n",
       "    <tr>\n",
       "      <th>9</th>\n",
       "      <td>593</td>\n",
       "      <td>By Hook or By Crook</td>\n",
       "      <td>2.0</td>\n",
       "      <td>3.527677</td>\n",
       "    </tr>\n",
       "  </tbody>\n",
       "</table>\n",
       "</div>"
      ],
      "text/plain": [
       "   movie_id                                 title  rating  rating_pred\n",
       "0         0                       Dinosaur Planet     3.0     3.565371\n",
       "1        29                Something's Gotta Give     3.0     3.823515\n",
       "2       187                            Dead Birds     3.0     3.408520\n",
       "3       190                      X2: X-Men United     4.0     4.054227\n",
       "4       282             If These Walls Could Talk     4.0     3.710069\n",
       "5       456                     Kill Bill: Vol. 2     3.0     3.366525\n",
       "6       485    Journey to the Center of the Earth     4.0     3.456025\n",
       "7       513            Santana: Supernatural Live     3.0     3.543549\n",
       "8       527  The Hitchhiker's Guide to the Galaxy     4.0     2.736385\n",
       "9       593                   By Hook or By Crook     2.0     3.527677"
      ]
     },
     "execution_count": 265,
     "metadata": {},
     "output_type": "execute_result"
    }
   ],
   "source": [
    "R_fitted.head(10)"
   ]
  },
  {
   "cell_type": "code",
   "execution_count": 266,
   "id": "b4e2fad4",
   "metadata": {},
   "outputs": [
    {
     "data": {
      "text/html": [
       "<div>\n",
       "<style scoped>\n",
       "    .dataframe tbody tr th:only-of-type {\n",
       "        vertical-align: middle;\n",
       "    }\n",
       "\n",
       "    .dataframe tbody tr th {\n",
       "        vertical-align: top;\n",
       "    }\n",
       "\n",
       "    .dataframe thead th {\n",
       "        text-align: right;\n",
       "    }\n",
       "</style>\n",
       "<table border=\"1\" class=\"dataframe\">\n",
       "  <thead>\n",
       "    <tr style=\"text-align: right;\">\n",
       "      <th></th>\n",
       "      <th>movie_id</th>\n",
       "      <th>title</th>\n",
       "      <th>rating</th>\n",
       "      <th>rating_pred</th>\n",
       "    </tr>\n",
       "  </thead>\n",
       "  <tbody>\n",
       "    <tr>\n",
       "      <th>18</th>\n",
       "      <td>1082</td>\n",
       "      <td>Walking with Prehistoric Beasts</td>\n",
       "      <td>5.0</td>\n",
       "      <td>3.832549</td>\n",
       "    </tr>\n",
       "    <tr>\n",
       "      <th>73</th>\n",
       "      <td>2860</td>\n",
       "      <td>The Silence of the Lambs</td>\n",
       "      <td>5.0</td>\n",
       "      <td>4.207895</td>\n",
       "    </tr>\n",
       "    <tr>\n",
       "      <th>23</th>\n",
       "      <td>1389</td>\n",
       "      <td>Yanni: Live at the Acropolis</td>\n",
       "      <td>5.0</td>\n",
       "      <td>3.579948</td>\n",
       "    </tr>\n",
       "    <tr>\n",
       "      <th>78</th>\n",
       "      <td>3110</td>\n",
       "      <td>Dante's Peak</td>\n",
       "      <td>5.0</td>\n",
       "      <td>3.291114</td>\n",
       "    </tr>\n",
       "    <tr>\n",
       "      <th>79</th>\n",
       "      <td>3181</td>\n",
       "      <td>Desert Hearts</td>\n",
       "      <td>5.0</td>\n",
       "      <td>3.580797</td>\n",
       "    </tr>\n",
       "    <tr>\n",
       "      <th>26</th>\n",
       "      <td>1468</td>\n",
       "      <td>Bend It Like Beckham</td>\n",
       "      <td>5.0</td>\n",
       "      <td>3.705519</td>\n",
       "    </tr>\n",
       "    <tr>\n",
       "      <th>27</th>\n",
       "      <td>1480</td>\n",
       "      <td>Beyond Borders</td>\n",
       "      <td>5.0</td>\n",
       "      <td>3.492514</td>\n",
       "    </tr>\n",
       "    <tr>\n",
       "      <th>92</th>\n",
       "      <td>3668</td>\n",
       "      <td>Laughing Matters</td>\n",
       "      <td>5.0</td>\n",
       "      <td>3.733208</td>\n",
       "    </tr>\n",
       "    <tr>\n",
       "      <th>57</th>\n",
       "      <td>2450</td>\n",
       "      <td>Lord of the Rings: The Fellowship of the Ring</td>\n",
       "      <td>5.0</td>\n",
       "      <td>4.484694</td>\n",
       "    </tr>\n",
       "    <tr>\n",
       "      <th>31</th>\n",
       "      <td>1707</td>\n",
       "      <td>Clash of the Titans</td>\n",
       "      <td>5.0</td>\n",
       "      <td>3.726379</td>\n",
       "    </tr>\n",
       "  </tbody>\n",
       "</table>\n",
       "</div>"
      ],
      "text/plain": [
       "    movie_id                                          title  rating  \\\n",
       "18      1082                Walking with Prehistoric Beasts     5.0   \n",
       "73      2860                       The Silence of the Lambs     5.0   \n",
       "23      1389                   Yanni: Live at the Acropolis     5.0   \n",
       "78      3110                                   Dante's Peak     5.0   \n",
       "79      3181                                  Desert Hearts     5.0   \n",
       "26      1468                           Bend It Like Beckham     5.0   \n",
       "27      1480                                 Beyond Borders     5.0   \n",
       "92      3668                               Laughing Matters     5.0   \n",
       "57      2450  Lord of the Rings: The Fellowship of the Ring     5.0   \n",
       "31      1707                            Clash of the Titans     5.0   \n",
       "\n",
       "    rating_pred  \n",
       "18     3.832549  \n",
       "73     4.207895  \n",
       "23     3.579948  \n",
       "78     3.291114  \n",
       "79     3.580797  \n",
       "26     3.705519  \n",
       "27     3.492514  \n",
       "92     3.733208  \n",
       "57     4.484694  \n",
       "31     3.726379  "
      ]
     },
     "execution_count": 266,
     "metadata": {},
     "output_type": "execute_result"
    }
   ],
   "source": [
    "# 원래 취향\n",
    "R_fitted.sort_values(by=['rating'], ascending=False).head(10)"
   ]
  },
  {
   "cell_type": "code",
   "execution_count": 267,
   "id": "5f0f1689",
   "metadata": {},
   "outputs": [],
   "source": [
    "R_pred = R_result[R_result['rating'].isna()==True]\n",
    "R_pred = R_pred[['movie_id','title','rating','rating_pred']].reset_index(drop=True)"
   ]
  },
  {
   "cell_type": "code",
   "execution_count": 268,
   "id": "21258742",
   "metadata": {
    "scrolled": true
   },
   "outputs": [
    {
     "data": {
      "text/html": [
       "<div>\n",
       "<style scoped>\n",
       "    .dataframe tbody tr th:only-of-type {\n",
       "        vertical-align: middle;\n",
       "    }\n",
       "\n",
       "    .dataframe tbody tr th {\n",
       "        vertical-align: top;\n",
       "    }\n",
       "\n",
       "    .dataframe thead th {\n",
       "        text-align: right;\n",
       "    }\n",
       "</style>\n",
       "<table border=\"1\" class=\"dataframe\">\n",
       "  <thead>\n",
       "    <tr style=\"text-align: right;\">\n",
       "      <th></th>\n",
       "      <th>movie_id</th>\n",
       "      <th>title</th>\n",
       "      <th>rating</th>\n",
       "      <th>rating_pred</th>\n",
       "    </tr>\n",
       "  </thead>\n",
       "  <tbody>\n",
       "    <tr>\n",
       "      <th>2115</th>\n",
       "      <td>2160</td>\n",
       "      <td>CSI: Season 1</td>\n",
       "      <td>NaN</td>\n",
       "      <td>4.631397</td>\n",
       "    </tr>\n",
       "    <tr>\n",
       "      <th>4193</th>\n",
       "      <td>4303</td>\n",
       "      <td>The Sixth Sense</td>\n",
       "      <td>NaN</td>\n",
       "      <td>4.477036</td>\n",
       "    </tr>\n",
       "    <tr>\n",
       "      <th>2708</th>\n",
       "      <td>2780</td>\n",
       "      <td>Braveheart</td>\n",
       "      <td>NaN</td>\n",
       "      <td>4.430554</td>\n",
       "    </tr>\n",
       "    <tr>\n",
       "      <th>2486</th>\n",
       "      <td>2546</td>\n",
       "      <td>Gilmore Girls: Season 1</td>\n",
       "      <td>NaN</td>\n",
       "      <td>4.411368</td>\n",
       "    </tr>\n",
       "    <tr>\n",
       "      <th>1448</th>\n",
       "      <td>1474</td>\n",
       "      <td>Six Feet Under: Season 4</td>\n",
       "      <td>NaN</td>\n",
       "      <td>4.360109</td>\n",
       "    </tr>\n",
       "    <tr>\n",
       "      <th>265</th>\n",
       "      <td>269</td>\n",
       "      <td>Sex and the City: Season 4</td>\n",
       "      <td>NaN</td>\n",
       "      <td>4.336044</td>\n",
       "    </tr>\n",
       "    <tr>\n",
       "      <th>3027</th>\n",
       "      <td>3103</td>\n",
       "      <td>Ghost</td>\n",
       "      <td>NaN</td>\n",
       "      <td>4.332624</td>\n",
       "    </tr>\n",
       "    <tr>\n",
       "      <th>2068</th>\n",
       "      <td>2112</td>\n",
       "      <td>Firefly</td>\n",
       "      <td>NaN</td>\n",
       "      <td>4.318385</td>\n",
       "    </tr>\n",
       "    <tr>\n",
       "      <th>1765</th>\n",
       "      <td>1796</td>\n",
       "      <td>Lethal Weapon</td>\n",
       "      <td>NaN</td>\n",
       "      <td>4.307304</td>\n",
       "    </tr>\n",
       "    <tr>\n",
       "      <th>3000</th>\n",
       "      <td>3077</td>\n",
       "      <td>The Lion King: Special Edition</td>\n",
       "      <td>NaN</td>\n",
       "      <td>4.303823</td>\n",
       "    </tr>\n",
       "  </tbody>\n",
       "</table>\n",
       "</div>"
      ],
      "text/plain": [
       "      movie_id                           title  rating  rating_pred\n",
       "2115      2160                   CSI: Season 1     NaN     4.631397\n",
       "4193      4303                 The Sixth Sense     NaN     4.477036\n",
       "2708      2780                      Braveheart     NaN     4.430554\n",
       "2486      2546         Gilmore Girls: Season 1     NaN     4.411368\n",
       "1448      1474        Six Feet Under: Season 4     NaN     4.360109\n",
       "265        269      Sex and the City: Season 4     NaN     4.336044\n",
       "3027      3103                           Ghost     NaN     4.332624\n",
       "2068      2112                         Firefly     NaN     4.318385\n",
       "1765      1796                   Lethal Weapon     NaN     4.307304\n",
       "3000      3077  The Lion King: Special Edition     NaN     4.303823"
      ]
     },
     "execution_count": 268,
     "metadata": {},
     "output_type": "execute_result"
    }
   ],
   "source": [
    "# 추천\n",
    "R_pred.sort_values(by=['rating_pred'], ascending=False).head(10)"
   ]
  }
 ],
 "metadata": {
  "kernelspec": {
   "display_name": "Python 3",
   "language": "python",
   "name": "python3"
  },
  "language_info": {
   "codemirror_mode": {
    "name": "ipython",
    "version": 3
   },
   "file_extension": ".py",
   "mimetype": "text/x-python",
   "name": "python",
   "nbconvert_exporter": "python",
   "pygments_lexer": "ipython3",
   "version": "3.8.8"
  }
 },
 "nbformat": 4,
 "nbformat_minor": 5
}
